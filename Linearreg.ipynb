{
 "cells": [
  {
   "cell_type": "code",
   "execution_count": 1,
   "id": "15b6531d",
   "metadata": {},
   "outputs": [],
   "source": [
    "import pandas as pd\n",
    "import matplotlib.pyplot as plt\n",
    "import pickle\n",
    "import numpy as np"
   ]
  },
  {
   "cell_type": "code",
   "execution_count": 4,
   "id": "ad310c5a",
   "metadata": {},
   "outputs": [],
   "source": [
    "df=pd.read_csv('Advertising.csv')"
   ]
  },
  {
   "cell_type": "code",
   "execution_count": 5,
   "id": "d48f0b82",
   "metadata": {},
   "outputs": [
    {
     "data": {
      "text/html": [
       "<div>\n",
       "<style scoped>\n",
       "    .dataframe tbody tr th:only-of-type {\n",
       "        vertical-align: middle;\n",
       "    }\n",
       "\n",
       "    .dataframe tbody tr th {\n",
       "        vertical-align: top;\n",
       "    }\n",
       "\n",
       "    .dataframe thead th {\n",
       "        text-align: right;\n",
       "    }\n",
       "</style>\n",
       "<table border=\"1\" class=\"dataframe\">\n",
       "  <thead>\n",
       "    <tr style=\"text-align: right;\">\n",
       "      <th></th>\n",
       "      <th>Unnamed: 0</th>\n",
       "      <th>TV</th>\n",
       "      <th>radio</th>\n",
       "      <th>newspaper</th>\n",
       "      <th>sales</th>\n",
       "    </tr>\n",
       "  </thead>\n",
       "  <tbody>\n",
       "    <tr>\n",
       "      <th>0</th>\n",
       "      <td>1</td>\n",
       "      <td>230.1</td>\n",
       "      <td>37.8</td>\n",
       "      <td>69.2</td>\n",
       "      <td>22.1</td>\n",
       "    </tr>\n",
       "    <tr>\n",
       "      <th>1</th>\n",
       "      <td>2</td>\n",
       "      <td>44.5</td>\n",
       "      <td>39.3</td>\n",
       "      <td>45.1</td>\n",
       "      <td>10.4</td>\n",
       "    </tr>\n",
       "  </tbody>\n",
       "</table>\n",
       "</div>"
      ],
      "text/plain": [
       "   Unnamed: 0     TV  radio  newspaper  sales\n",
       "0           1  230.1   37.8       69.2   22.1\n",
       "1           2   44.5   39.3       45.1   10.4"
      ]
     },
     "execution_count": 5,
     "metadata": {},
     "output_type": "execute_result"
    }
   ],
   "source": [
    "df.head(2)"
   ]
  },
  {
   "cell_type": "code",
   "execution_count": 6,
   "id": "ba4457ba",
   "metadata": {},
   "outputs": [
    {
     "data": {
      "text/plain": [
       "(200, 5)"
      ]
     },
     "execution_count": 6,
     "metadata": {},
     "output_type": "execute_result"
    }
   ],
   "source": [
    "df.shape"
   ]
  },
  {
   "cell_type": "code",
   "execution_count": 7,
   "id": "89a85949",
   "metadata": {},
   "outputs": [
    {
     "data": {
      "text/html": [
       "<div>\n",
       "<style scoped>\n",
       "    .dataframe tbody tr th:only-of-type {\n",
       "        vertical-align: middle;\n",
       "    }\n",
       "\n",
       "    .dataframe tbody tr th {\n",
       "        vertical-align: top;\n",
       "    }\n",
       "\n",
       "    .dataframe thead th {\n",
       "        text-align: right;\n",
       "    }\n",
       "</style>\n",
       "<table border=\"1\" class=\"dataframe\">\n",
       "  <thead>\n",
       "    <tr style=\"text-align: right;\">\n",
       "      <th></th>\n",
       "      <th>Unnamed: 0</th>\n",
       "      <th>TV</th>\n",
       "      <th>radio</th>\n",
       "      <th>newspaper</th>\n",
       "      <th>sales</th>\n",
       "    </tr>\n",
       "  </thead>\n",
       "  <tbody>\n",
       "    <tr>\n",
       "      <th>count</th>\n",
       "      <td>200.000000</td>\n",
       "      <td>200.000000</td>\n",
       "      <td>200.000000</td>\n",
       "      <td>200.000000</td>\n",
       "      <td>200.000000</td>\n",
       "    </tr>\n",
       "    <tr>\n",
       "      <th>mean</th>\n",
       "      <td>100.500000</td>\n",
       "      <td>147.042500</td>\n",
       "      <td>23.264000</td>\n",
       "      <td>30.554000</td>\n",
       "      <td>14.022500</td>\n",
       "    </tr>\n",
       "    <tr>\n",
       "      <th>std</th>\n",
       "      <td>57.879185</td>\n",
       "      <td>85.854236</td>\n",
       "      <td>14.846809</td>\n",
       "      <td>21.778621</td>\n",
       "      <td>5.217457</td>\n",
       "    </tr>\n",
       "    <tr>\n",
       "      <th>min</th>\n",
       "      <td>1.000000</td>\n",
       "      <td>0.700000</td>\n",
       "      <td>0.000000</td>\n",
       "      <td>0.300000</td>\n",
       "      <td>1.600000</td>\n",
       "    </tr>\n",
       "    <tr>\n",
       "      <th>25%</th>\n",
       "      <td>50.750000</td>\n",
       "      <td>74.375000</td>\n",
       "      <td>9.975000</td>\n",
       "      <td>12.750000</td>\n",
       "      <td>10.375000</td>\n",
       "    </tr>\n",
       "    <tr>\n",
       "      <th>50%</th>\n",
       "      <td>100.500000</td>\n",
       "      <td>149.750000</td>\n",
       "      <td>22.900000</td>\n",
       "      <td>25.750000</td>\n",
       "      <td>12.900000</td>\n",
       "    </tr>\n",
       "    <tr>\n",
       "      <th>75%</th>\n",
       "      <td>150.250000</td>\n",
       "      <td>218.825000</td>\n",
       "      <td>36.525000</td>\n",
       "      <td>45.100000</td>\n",
       "      <td>17.400000</td>\n",
       "    </tr>\n",
       "    <tr>\n",
       "      <th>max</th>\n",
       "      <td>200.000000</td>\n",
       "      <td>296.400000</td>\n",
       "      <td>49.600000</td>\n",
       "      <td>114.000000</td>\n",
       "      <td>27.000000</td>\n",
       "    </tr>\n",
       "  </tbody>\n",
       "</table>\n",
       "</div>"
      ],
      "text/plain": [
       "       Unnamed: 0          TV       radio   newspaper       sales\n",
       "count  200.000000  200.000000  200.000000  200.000000  200.000000\n",
       "mean   100.500000  147.042500   23.264000   30.554000   14.022500\n",
       "std     57.879185   85.854236   14.846809   21.778621    5.217457\n",
       "min      1.000000    0.700000    0.000000    0.300000    1.600000\n",
       "25%     50.750000   74.375000    9.975000   12.750000   10.375000\n",
       "50%    100.500000  149.750000   22.900000   25.750000   12.900000\n",
       "75%    150.250000  218.825000   36.525000   45.100000   17.400000\n",
       "max    200.000000  296.400000   49.600000  114.000000   27.000000"
      ]
     },
     "execution_count": 7,
     "metadata": {},
     "output_type": "execute_result"
    }
   ],
   "source": [
    "df.describe()"
   ]
  },
  {
   "cell_type": "code",
   "execution_count": 8,
   "id": "eb979e1e",
   "metadata": {},
   "outputs": [
    {
     "name": "stdout",
     "output_type": "stream",
     "text": [
      "Collecting ydata-profiling\n",
      "  Using cached ydata_profiling-4.6.4-py2.py3-none-any.whl.metadata (20 kB)\n",
      "Requirement already satisfied: scipy<1.12,>=1.4.1 in d:\\softwareinstall\\lib\\site-packages (from ydata-profiling) (1.6.2)"
     ]
    },
    {
     "name": "stderr",
     "output_type": "stream",
     "text": [
      "WARNING: visions 0.7.5 does not provide the extra 'type-image-path'\n",
      "DEPRECATION: pyodbc 4.0.0-unsupported has a non-standard version number. pip 24.1 will enforce this behaviour change. A possible replacement is to upgrade to a newer version of pyodbc or contact the author to suggest that they release a version with a conforming version number. Discussion can be found at https://github.com/pypa/pip/issues/12063\n",
      "ERROR: Cannot uninstall 'llvmlite'. It is a distutils installed project and thus we cannot accurately determine which files belong to it which would lead to only a partial uninstall.\n"
     ]
    },
    {
     "name": "stdout",
     "output_type": "stream",
     "text": [
      "\n",
      "Requirement already satisfied: pandas!=1.4.0,<3,>1.1 in d:\\softwareinstall\\lib\\site-packages (from ydata-profiling) (1.2.4)\n",
      "Requirement already satisfied: matplotlib<3.9,>=3.2 in d:\\softwareinstall\\lib\\site-packages (from ydata-profiling) (3.3.4)\n",
      "Collecting pydantic>=2 (from ydata-profiling)\n",
      "  Using cached pydantic-2.6.0-py3-none-any.whl.metadata (81 kB)\n",
      "Requirement already satisfied: PyYAML<6.1,>=5.0.0 in d:\\softwareinstall\\lib\\site-packages (from ydata-profiling) (5.4.1)\n",
      "Requirement already satisfied: jinja2<3.2,>=2.11.1 in d:\\softwareinstall\\lib\\site-packages (from ydata-profiling) (2.11.3)\n",
      "Requirement already satisfied: visions==0.7.5 in d:\\softwareinstall\\lib\\site-packages (from visions[type_image_path]==0.7.5->ydata-profiling) (0.7.5)\n",
      "Requirement already satisfied: numpy<1.26,>=1.16.0 in d:\\softwareinstall\\lib\\site-packages (from ydata-profiling) (1.22.4)\n",
      "Requirement already satisfied: htmlmin==0.1.12 in d:\\softwareinstall\\lib\\site-packages (from ydata-profiling) (0.1.12)\n",
      "Collecting phik<0.13,>=0.11.1 (from ydata-profiling)\n",
      "  Using cached phik-0.12.4-cp38-cp38-win_amd64.whl.metadata (5.6 kB)\n",
      "Requirement already satisfied: requests<3,>=2.24.0 in d:\\softwareinstall\\lib\\site-packages (from ydata-profiling) (2.25.1)\n",
      "Requirement already satisfied: tqdm<5,>=4.48.2 in d:\\softwareinstall\\lib\\site-packages (from ydata-profiling) (4.59.0)\n",
      "Requirement already satisfied: seaborn<0.13,>=0.10.1 in d:\\softwareinstall\\lib\\site-packages (from ydata-profiling) (0.11.1)\n",
      "Requirement already satisfied: multimethod<2,>=1.4 in d:\\softwareinstall\\lib\\site-packages (from ydata-profiling) (1.10)\n",
      "Collecting statsmodels<1,>=0.13.2 (from ydata-profiling)\n",
      "  Using cached statsmodels-0.14.1-cp38-cp38-win_amd64.whl.metadata (9.8 kB)\n",
      "Collecting typeguard<5,>=4.1.2 (from ydata-profiling)\n",
      "  Using cached typeguard-4.1.5-py3-none-any.whl.metadata (3.7 kB)\n",
      "Collecting imagehash==4.3.1 (from ydata-profiling)\n",
      "  Using cached ImageHash-4.3.1-py2.py3-none-any.whl (296 kB)\n",
      "Collecting wordcloud>=1.9.1 (from ydata-profiling)\n",
      "  Using cached wordcloud-1.9.3-cp38-cp38-win_amd64.whl.metadata (3.5 kB)\n",
      "Collecting dacite>=1.8 (from ydata-profiling)\n",
      "  Using cached dacite-1.8.1-py3-none-any.whl.metadata (15 kB)\n",
      "Collecting numba<0.59.0,>=0.56.0 (from ydata-profiling)\n",
      "  Using cached numba-0.58.1-cp38-cp38-win_amd64.whl.metadata (2.8 kB)\n",
      "Requirement already satisfied: PyWavelets in d:\\softwareinstall\\lib\\site-packages (from imagehash==4.3.1->ydata-profiling) (1.1.1)\n",
      "Requirement already satisfied: pillow in d:\\softwareinstall\\lib\\site-packages (from imagehash==4.3.1->ydata-profiling) (8.2.0)\n",
      "Requirement already satisfied: attrs>=19.3.0 in d:\\softwareinstall\\lib\\site-packages (from visions==0.7.5->visions[type_image_path]==0.7.5->ydata-profiling) (20.3.0)\n",
      "Requirement already satisfied: networkx>=2.4 in d:\\softwareinstall\\lib\\site-packages (from visions==0.7.5->visions[type_image_path]==0.7.5->ydata-profiling) (2.5)\n",
      "Requirement already satisfied: tangled-up-in-unicode>=0.0.4 in d:\\softwareinstall\\lib\\site-packages (from visions==0.7.5->visions[type_image_path]==0.7.5->ydata-profiling) (0.2.0)\n",
      "Requirement already satisfied: MarkupSafe>=0.23 in d:\\softwareinstall\\lib\\site-packages (from jinja2<3.2,>=2.11.1->ydata-profiling) (1.1.1)\n",
      "Requirement already satisfied: cycler>=0.10 in d:\\softwareinstall\\lib\\site-packages (from matplotlib<3.9,>=3.2->ydata-profiling) (0.10.0)\n",
      "Requirement already satisfied: kiwisolver>=1.0.1 in d:\\softwareinstall\\lib\\site-packages (from matplotlib<3.9,>=3.2->ydata-profiling) (1.3.1)\n",
      "Requirement already satisfied: pyparsing!=2.0.4,!=2.1.2,!=2.1.6,>=2.0.3 in d:\\softwareinstall\\lib\\site-packages (from matplotlib<3.9,>=3.2->ydata-profiling) (2.4.7)\n",
      "Requirement already satisfied: python-dateutil>=2.1 in d:\\softwareinstall\\lib\\site-packages (from matplotlib<3.9,>=3.2->ydata-profiling) (2.8.1)\n",
      "Collecting llvmlite<0.42,>=0.41.0dev0 (from numba<0.59.0,>=0.56.0->ydata-profiling)\n",
      "  Using cached llvmlite-0.41.1-cp38-cp38-win_amd64.whl.metadata (4.9 kB)\n",
      "Requirement already satisfied: importlib-metadata in d:\\softwareinstall\\lib\\site-packages (from numba<0.59.0,>=0.56.0->ydata-profiling) (3.10.0)\n",
      "Requirement already satisfied: pytz>=2017.3 in d:\\softwareinstall\\lib\\site-packages (from pandas!=1.4.0,<3,>1.1->ydata-profiling) (2021.1)\n",
      "Requirement already satisfied: joblib>=0.14.1 in d:\\softwareinstall\\lib\\site-packages (from phik<0.13,>=0.11.1->ydata-profiling) (1.0.1)\n",
      "Collecting annotated-types>=0.4.0 (from pydantic>=2->ydata-profiling)\n",
      "  Using cached annotated_types-0.6.0-py3-none-any.whl.metadata (12 kB)\n",
      "Requirement already satisfied: pydantic-core==2.16.1 in d:\\softwareinstall\\lib\\site-packages (from pydantic>=2->ydata-profiling) (2.16.1)\n",
      "Requirement already satisfied: typing-extensions>=4.6.1 in d:\\softwareinstall\\lib\\site-packages (from pydantic>=2->ydata-profiling) (4.9.0)\n",
      "Requirement already satisfied: chardet<5,>=3.0.2 in d:\\softwareinstall\\lib\\site-packages (from requests<3,>=2.24.0->ydata-profiling) (4.0.0)\n",
      "Requirement already satisfied: idna<3,>=2.5 in d:\\softwareinstall\\lib\\site-packages (from requests<3,>=2.24.0->ydata-profiling) (2.10)\n",
      "Requirement already satisfied: urllib3<1.27,>=1.21.1 in d:\\softwareinstall\\lib\\site-packages (from requests<3,>=2.24.0->ydata-profiling) (1.26.4)\n",
      "Requirement already satisfied: certifi>=2017.4.17 in d:\\softwareinstall\\lib\\site-packages (from requests<3,>=2.24.0->ydata-profiling) (2020.12.5)\n",
      "Requirement already satisfied: patsy>=0.5.4 in d:\\softwareinstall\\lib\\site-packages (from statsmodels<1,>=0.13.2->ydata-profiling) (0.5.6)\n",
      "Requirement already satisfied: packaging>=21.3 in d:\\softwareinstall\\lib\\site-packages (from statsmodels<1,>=0.13.2->ydata-profiling) (23.2)\n",
      "Requirement already satisfied: six in d:\\softwareinstall\\lib\\site-packages (from cycler>=0.10->matplotlib<3.9,>=3.2->ydata-profiling) (1.15.0)\n",
      "Requirement already satisfied: zipp>=0.5 in d:\\softwareinstall\\lib\\site-packages (from importlib-metadata->numba<0.59.0,>=0.56.0->ydata-profiling) (3.4.1)\n",
      "Requirement already satisfied: decorator>=4.3.0 in d:\\softwareinstall\\lib\\site-packages (from networkx>=2.4->visions==0.7.5->visions[type_image_path]==0.7.5->ydata-profiling) (5.0.6)\n",
      "Using cached ydata_profiling-4.6.4-py2.py3-none-any.whl (357 kB)\n",
      "Using cached dacite-1.8.1-py3-none-any.whl (14 kB)\n",
      "Using cached numba-0.58.1-cp38-cp38-win_amd64.whl (2.6 MB)\n",
      "Using cached phik-0.12.4-cp38-cp38-win_amd64.whl (666 kB)\n",
      "Using cached pydantic-2.6.0-py3-none-any.whl (394 kB)\n",
      "Using cached statsmodels-0.14.1-cp38-cp38-win_amd64.whl (10.0 MB)\n",
      "Using cached typeguard-4.1.5-py3-none-any.whl (34 kB)\n",
      "Using cached wordcloud-1.9.3-cp38-cp38-win_amd64.whl (300 kB)\n",
      "Using cached annotated_types-0.6.0-py3-none-any.whl (12 kB)\n",
      "Using cached llvmlite-0.41.1-cp38-cp38-win_amd64.whl (28.1 MB)\n",
      "Installing collected packages: llvmlite, dacite, annotated-types, typeguard, pydantic, numba, imagehash, wordcloud, statsmodels, phik, ydata-profiling\n",
      "  Attempting uninstall: llvmlite\n",
      "    Found existing installation: llvmlite 0.36.0\n"
     ]
    }
   ],
   "source": [
    "!pip install ydata-profiling\n"
   ]
  },
  {
   "cell_type": "code",
   "execution_count": 11,
   "id": "444edcc5",
   "metadata": {},
   "outputs": [
    {
     "name": "stdout",
     "output_type": "stream",
     "text": [
      "Requirement already satisfied: pip in d:\\softwareinstall\\lib\\site-packages (24.0)Note: you may need to restart the kernel to use updated packages.\n",
      "\n"
     ]
    },
    {
     "name": "stderr",
     "output_type": "stream",
     "text": [
      "DEPRECATION: pyodbc 4.0.0-unsupported has a non-standard version number. pip 24.1 will enforce this behaviour change. A possible replacement is to upgrade to a newer version of pyodbc or contact the author to suggest that they release a version with a conforming version number. Discussion can be found at https://github.com/pypa/pip/issues/12063\n"
     ]
    }
   ],
   "source": [
    "\n",
    "pip install --upgrade pip"
   ]
  },
  {
   "cell_type": "code",
   "execution_count": 3,
   "id": "471782eb",
   "metadata": {},
   "outputs": [
    {
     "name": "stdout",
     "output_type": "stream",
     "text": [
      "Collecting pandas_profiling"
     ]
    },
    {
     "name": "stderr",
     "output_type": "stream",
     "text": [
      "WARNING: visions 0.7.5 does not provide the extra 'type-image-path'\n",
      "DEPRECATION: pyodbc 4.0.0-unsupported has a non-standard version number. pip 24.1 will enforce this behaviour change. A possible replacement is to upgrade to a newer version of pyodbc or contact the author to suggest that they release a version with a conforming version number. Discussion can be found at https://github.com/pypa/pip/issues/12063\n",
      "ERROR: Cannot uninstall 'llvmlite'. It is a distutils installed project and thus we cannot accurately determine which files belong to it which would lead to only a partial uninstall.\n"
     ]
    },
    {
     "name": "stdout",
     "output_type": "stream",
     "text": [
      "\n",
      "  Using cached pandas_profiling-3.6.6-py2.py3-none-any.whl (324 kB)\n",
      "Collecting ydata-profiling (from pandas_profiling)\n",
      "  Using cached ydata_profiling-4.6.4-py2.py3-none-any.whl.metadata (20 kB)\n",
      "Requirement already satisfied: scipy<1.12,>=1.4.1 in d:\\softwareinstall\\lib\\site-packages (from ydata-profiling->pandas_profiling) (1.6.2)\n",
      "Requirement already satisfied: pandas!=1.4.0,<3,>1.1 in d:\\softwareinstall\\lib\\site-packages (from ydata-profiling->pandas_profiling) (1.2.4)\n",
      "Requirement already satisfied: matplotlib<3.9,>=3.2 in d:\\softwareinstall\\lib\\site-packages (from ydata-profiling->pandas_profiling) (3.3.4)\n",
      "Collecting pydantic>=2 (from ydata-profiling->pandas_profiling)\n",
      "  Using cached pydantic-2.6.0-py3-none-any.whl.metadata (81 kB)\n",
      "Requirement already satisfied: PyYAML<6.1,>=5.0.0 in d:\\softwareinstall\\lib\\site-packages (from ydata-profiling->pandas_profiling) (5.4.1)\n",
      "Requirement already satisfied: jinja2<3.2,>=2.11.1 in d:\\softwareinstall\\lib\\site-packages (from ydata-profiling->pandas_profiling) (2.11.3)\n",
      "Requirement already satisfied: visions==0.7.5 in d:\\softwareinstall\\lib\\site-packages (from visions[type_image_path]==0.7.5->ydata-profiling->pandas_profiling) (0.7.5)\n",
      "Requirement already satisfied: numpy<1.26,>=1.16.0 in d:\\softwareinstall\\lib\\site-packages (from ydata-profiling->pandas_profiling) (1.22.4)\n",
      "Requirement already satisfied: htmlmin==0.1.12 in d:\\softwareinstall\\lib\\site-packages (from ydata-profiling->pandas_profiling) (0.1.12)\n",
      "Collecting phik<0.13,>=0.11.1 (from ydata-profiling->pandas_profiling)\n",
      "  Using cached phik-0.12.4-cp38-cp38-win_amd64.whl.metadata (5.6 kB)\n",
      "Requirement already satisfied: requests<3,>=2.24.0 in d:\\softwareinstall\\lib\\site-packages (from ydata-profiling->pandas_profiling) (2.25.1)\n",
      "Requirement already satisfied: tqdm<5,>=4.48.2 in d:\\softwareinstall\\lib\\site-packages (from ydata-profiling->pandas_profiling) (4.59.0)\n",
      "Requirement already satisfied: seaborn<0.13,>=0.10.1 in d:\\softwareinstall\\lib\\site-packages (from ydata-profiling->pandas_profiling) (0.11.1)\n",
      "Requirement already satisfied: multimethod<2,>=1.4 in d:\\softwareinstall\\lib\\site-packages (from ydata-profiling->pandas_profiling) (1.10)\n",
      "Collecting statsmodels<1,>=0.13.2 (from ydata-profiling->pandas_profiling)\n",
      "  Using cached statsmodels-0.14.1-cp38-cp38-win_amd64.whl.metadata (9.8 kB)\n",
      "Collecting typeguard<5,>=4.1.2 (from ydata-profiling->pandas_profiling)\n",
      "  Using cached typeguard-4.1.5-py3-none-any.whl.metadata (3.7 kB)\n",
      "Collecting imagehash==4.3.1 (from ydata-profiling->pandas_profiling)\n",
      "  Using cached ImageHash-4.3.1-py2.py3-none-any.whl (296 kB)\n",
      "Collecting wordcloud>=1.9.1 (from ydata-profiling->pandas_profiling)\n",
      "  Using cached wordcloud-1.9.3-cp38-cp38-win_amd64.whl.metadata (3.5 kB)\n",
      "Collecting dacite>=1.8 (from ydata-profiling->pandas_profiling)\n",
      "  Using cached dacite-1.8.1-py3-none-any.whl.metadata (15 kB)\n",
      "Collecting numba<0.59.0,>=0.56.0 (from ydata-profiling->pandas_profiling)\n",
      "  Using cached numba-0.58.1-cp38-cp38-win_amd64.whl.metadata (2.8 kB)\n",
      "Requirement already satisfied: PyWavelets in d:\\softwareinstall\\lib\\site-packages (from imagehash==4.3.1->ydata-profiling->pandas_profiling) (1.1.1)\n",
      "Requirement already satisfied: pillow in d:\\softwareinstall\\lib\\site-packages (from imagehash==4.3.1->ydata-profiling->pandas_profiling) (8.2.0)\n",
      "Requirement already satisfied: attrs>=19.3.0 in d:\\softwareinstall\\lib\\site-packages (from visions==0.7.5->visions[type_image_path]==0.7.5->ydata-profiling->pandas_profiling) (20.3.0)\n",
      "Requirement already satisfied: networkx>=2.4 in d:\\softwareinstall\\lib\\site-packages (from visions==0.7.5->visions[type_image_path]==0.7.5->ydata-profiling->pandas_profiling) (2.5)\n",
      "Requirement already satisfied: tangled-up-in-unicode>=0.0.4 in d:\\softwareinstall\\lib\\site-packages (from visions==0.7.5->visions[type_image_path]==0.7.5->ydata-profiling->pandas_profiling) (0.2.0)\n",
      "Requirement already satisfied: MarkupSafe>=0.23 in d:\\softwareinstall\\lib\\site-packages (from jinja2<3.2,>=2.11.1->ydata-profiling->pandas_profiling) (1.1.1)\n",
      "Requirement already satisfied: cycler>=0.10 in d:\\softwareinstall\\lib\\site-packages (from matplotlib<3.9,>=3.2->ydata-profiling->pandas_profiling) (0.10.0)\n",
      "Requirement already satisfied: kiwisolver>=1.0.1 in d:\\softwareinstall\\lib\\site-packages (from matplotlib<3.9,>=3.2->ydata-profiling->pandas_profiling) (1.3.1)\n",
      "Requirement already satisfied: pyparsing!=2.0.4,!=2.1.2,!=2.1.6,>=2.0.3 in d:\\softwareinstall\\lib\\site-packages (from matplotlib<3.9,>=3.2->ydata-profiling->pandas_profiling) (2.4.7)\n",
      "Requirement already satisfied: python-dateutil>=2.1 in d:\\softwareinstall\\lib\\site-packages (from matplotlib<3.9,>=3.2->ydata-profiling->pandas_profiling) (2.8.1)\n",
      "Collecting llvmlite<0.42,>=0.41.0dev0 (from numba<0.59.0,>=0.56.0->ydata-profiling->pandas_profiling)\n",
      "  Using cached llvmlite-0.41.1-cp38-cp38-win_amd64.whl.metadata (4.9 kB)\n",
      "Requirement already satisfied: importlib-metadata in d:\\softwareinstall\\lib\\site-packages (from numba<0.59.0,>=0.56.0->ydata-profiling->pandas_profiling) (3.10.0)\n",
      "Requirement already satisfied: pytz>=2017.3 in d:\\softwareinstall\\lib\\site-packages (from pandas!=1.4.0,<3,>1.1->ydata-profiling->pandas_profiling) (2021.1)\n",
      "Requirement already satisfied: joblib>=0.14.1 in d:\\softwareinstall\\lib\\site-packages (from phik<0.13,>=0.11.1->ydata-profiling->pandas_profiling) (1.0.1)\n",
      "Collecting annotated-types>=0.4.0 (from pydantic>=2->ydata-profiling->pandas_profiling)\n",
      "  Using cached annotated_types-0.6.0-py3-none-any.whl.metadata (12 kB)\n",
      "Requirement already satisfied: pydantic-core==2.16.1 in d:\\softwareinstall\\lib\\site-packages (from pydantic>=2->ydata-profiling->pandas_profiling) (2.16.1)\n",
      "Requirement already satisfied: typing-extensions>=4.6.1 in d:\\softwareinstall\\lib\\site-packages (from pydantic>=2->ydata-profiling->pandas_profiling) (4.9.0)\n",
      "Requirement already satisfied: chardet<5,>=3.0.2 in d:\\softwareinstall\\lib\\site-packages (from requests<3,>=2.24.0->ydata-profiling->pandas_profiling) (4.0.0)\n",
      "Requirement already satisfied: idna<3,>=2.5 in d:\\softwareinstall\\lib\\site-packages (from requests<3,>=2.24.0->ydata-profiling->pandas_profiling) (2.10)\n",
      "Requirement already satisfied: urllib3<1.27,>=1.21.1 in d:\\softwareinstall\\lib\\site-packages (from requests<3,>=2.24.0->ydata-profiling->pandas_profiling) (1.26.4)\n",
      "Requirement already satisfied: certifi>=2017.4.17 in d:\\softwareinstall\\lib\\site-packages (from requests<3,>=2.24.0->ydata-profiling->pandas_profiling) (2020.12.5)\n",
      "Requirement already satisfied: patsy>=0.5.4 in d:\\softwareinstall\\lib\\site-packages (from statsmodels<1,>=0.13.2->ydata-profiling->pandas_profiling) (0.5.6)\n",
      "Requirement already satisfied: packaging>=21.3 in d:\\softwareinstall\\lib\\site-packages (from statsmodels<1,>=0.13.2->ydata-profiling->pandas_profiling) (23.2)\n",
      "Requirement already satisfied: six in d:\\softwareinstall\\lib\\site-packages (from cycler>=0.10->matplotlib<3.9,>=3.2->ydata-profiling->pandas_profiling) (1.15.0)\n",
      "Requirement already satisfied: zipp>=0.5 in d:\\softwareinstall\\lib\\site-packages (from importlib-metadata->numba<0.59.0,>=0.56.0->ydata-profiling->pandas_profiling) (3.17.0)\n",
      "Requirement already satisfied: decorator>=4.3.0 in d:\\softwareinstall\\lib\\site-packages (from networkx>=2.4->visions==0.7.5->visions[type_image_path]==0.7.5->ydata-profiling->pandas_profiling) (5.0.6)\n",
      "Using cached ydata_profiling-4.6.4-py2.py3-none-any.whl (357 kB)\n",
      "Using cached dacite-1.8.1-py3-none-any.whl (14 kB)\n",
      "Using cached numba-0.58.1-cp38-cp38-win_amd64.whl (2.6 MB)\n",
      "Using cached phik-0.12.4-cp38-cp38-win_amd64.whl (666 kB)\n",
      "Using cached pydantic-2.6.0-py3-none-any.whl (394 kB)\n",
      "Using cached statsmodels-0.14.1-cp38-cp38-win_amd64.whl (10.0 MB)\n",
      "Using cached typeguard-4.1.5-py3-none-any.whl (34 kB)\n",
      "Using cached wordcloud-1.9.3-cp38-cp38-win_amd64.whl (300 kB)\n",
      "Using cached annotated_types-0.6.0-py3-none-any.whl (12 kB)\n",
      "Using cached llvmlite-0.41.1-cp38-cp38-win_amd64.whl (28.1 MB)\n",
      "Installing collected packages: llvmlite, dacite, annotated-types, typeguard, pydantic, numba, imagehash, wordcloud, statsmodels, phik, ydata-profiling, pandas_profiling\n",
      "  Attempting uninstall: llvmlite\n",
      "    Found existing installation: llvmlite 0.36.0\n"
     ]
    }
   ],
   "source": [
    "!pip install pandas_profiling"
   ]
  },
  {
   "cell_type": "code",
   "execution_count": 4,
   "id": "11e06b9d",
   "metadata": {},
   "outputs": [
    {
     "ename": "ModuleNotFoundError",
     "evalue": "No module named 'pandas_profiling'",
     "output_type": "error",
     "traceback": [
      "\u001b[1;31m---------------------------------------------------------------------------\u001b[0m",
      "\u001b[1;31mModuleNotFoundError\u001b[0m                       Traceback (most recent call last)",
      "\u001b[1;32m<ipython-input-4-e2a33329b6f0>\u001b[0m in \u001b[0;36m<module>\u001b[1;34m\u001b[0m\n\u001b[1;32m----> 1\u001b[1;33m \u001b[1;32mfrom\u001b[0m \u001b[0mpandas_profiling\u001b[0m \u001b[1;32mimport\u001b[0m \u001b[0mProfileReport\u001b[0m\u001b[1;33m\u001b[0m\u001b[1;33m\u001b[0m\u001b[0m\n\u001b[0m",
      "\u001b[1;31mModuleNotFoundError\u001b[0m: No module named 'pandas_profiling'"
     ]
    }
   ],
   "source": [
    "from pandas_profiling import ProfileReport"
   ]
  },
  {
   "cell_type": "code",
   "execution_count": 2,
   "id": "25a25d6d",
   "metadata": {},
   "outputs": [
    {
     "name": "stdout",
     "output_type": "stream",
     "text": [
      "Collecting pandas-profiling\n",
      "  Using cached pandas_profiling-3.6.6-py2.py3-none-any.whl (324 kB)\n",
      "Collecting ydata-profiling (from pandas-profiling)\n",
      "  Using cached ydata_profiling-4.6.4-py2.py3-none-any.whl.metadata (20 kB)\n",
      "Requirement already satisfied: scipy<1.12,>=1.4.1 in d:\\softwareinstall\\lib\\site-packages (from ydata-profiling->pandas-profiling) (1.6.2)\n",
      "Requirement already satisfied: pandas!=1.4.0,<3,>1.1 in d:\\softwareinstall\\lib\\site-packages (from ydata-profiling->pandas-profiling) (1.2.4)\n",
      "Requirement already satisfied: matplotlib<3.9,>=3.2 in d:\\softwareinstall\\lib\\site-packages (from ydata-profiling->pandas-profiling) (3.3.4)\n",
      "Collecting pydantic>=2 (from ydata-profiling->pandas-profiling)\n",
      "  Using cached pydantic-2.6.0-py3-none-any.whl.metadata (81 kB)\n",
      "Requirement already satisfied: PyYAML<6.1,>=5.0.0 in d:\\softwareinstall\\lib\\site-packages (from ydata-profiling->pandas-profiling) (5.4.1)\n",
      "Requirement already satisfied: jinja2<3.2,>=2.11.1 in d:\\softwareinstall\\lib\\site-packages (from ydata-profiling->pandas-profiling) (2.11.3)\n",
      "Requirement already satisfied: visions==0.7.5 in d:\\softwareinstall\\lib\\site-packages (from visions[type_image_path]==0.7.5->ydata-profiling->pandas-profiling) (0.7.5)\n",
      "Requirement already satisfied: numpy<1.26,>=1.16.0 in d:\\softwareinstall\\lib\\site-packages (from ydata-profiling->pandas-profiling) (1.22.4)\n",
      "Requirement already satisfied: htmlmin==0.1.12 in d:\\softwareinstall\\lib\\site-packages (from ydata-profiling->pandas-profiling) (0.1.12)\n",
      "Collecting phik<0.13,>=0.11.1 (from ydata-profiling->pandas-profiling)\n",
      "  Using cached phik-0.12.4-cp38-cp38-win_amd64.whl.metadata (5.6 kB)\n",
      "Requirement already satisfied: requests<3,>=2.24.0 in d:\\softwareinstall\\lib\\site-packages (from ydata-profiling->pandas-profiling) (2.25.1)\n",
      "Requirement already satisfied: tqdm<5,>=4.48.2 in d:\\softwareinstall\\lib\\site-packages (from ydata-profiling->pandas-profiling) (4.59.0)\n",
      "Requirement already satisfied: seaborn<0.13,>=0.10.1 in d:\\softwareinstall\\lib\\site-packages (from ydata-profiling->pandas-profiling) (0.11.1)\n",
      "Requirement already satisfied: multimethod<2,>=1.4 in d:\\softwareinstall\\lib\\site-packages (from ydata-profiling->pandas-profiling) (1.10)\n",
      "Collecting statsmodels<1,>=0.13.2 (from ydata-profiling->pandas-profiling)\n",
      "  Using cached statsmodels-0.14.1-cp38-cp38-win_amd64.whl.metadata (9.8 kB)\n",
      "Collecting typeguard<5,>=4.1.2 (from ydata-profiling->pandas-profiling)\n",
      "  Using cached typeguard-4.1.5-py3-none-any.whl.metadata (3.7 kB)\n",
      "Collecting imagehash==4.3.1 (from ydata-profiling->pandas-profiling)\n",
      "  Using cached ImageHash-4.3.1-py2.py3-none-any.whl (296 kB)\n",
      "Collecting wordcloud>=1.9.1 (from ydata-profiling->pandas-profiling)\n",
      "  Using cached wordcloud-1.9.3-cp38-cp38-win_amd64.whl.metadata (3.5 kB)\n",
      "Collecting dacite>=1.8 (from ydata-profiling->pandas-profiling)\n",
      "  Using cached dacite-1.8.1-py3-none-any.whl.metadata (15 kB)\n",
      "Collecting numba<0.59.0,>=0.56.0 (from ydata-profiling->pandas-profiling)\n",
      "  Using cached numba-0.58.1-cp38-cp38-win_amd64.whl.metadata (2.8 kB)\n",
      "Requirement already satisfied: PyWavelets in d:\\softwareinstall\\lib\\site-packages (from imagehash==4.3.1->ydata-profiling->pandas-profiling) (1.1.1)\n",
      "Requirement already satisfied: pillow in d:\\softwareinstall\\lib\\site-packages (from imagehash==4.3.1->ydata-profiling->pandas-profiling) (8.2.0)\n",
      "Requirement already satisfied: attrs>=19.3.0 in d:\\softwareinstall\\lib\\site-packages (from visions==0.7.5->visions[type_image_path]==0.7.5->ydata-profiling->pandas-profiling) (20.3.0)\n",
      "Requirement already satisfied: networkx>=2.4 in d:\\softwareinstall\\lib\\site-packages (from visions==0.7.5->visions[type_image_path]==0.7.5->ydata-profiling->pandas-profiling) (2.5)\n",
      "Requirement already satisfied: tangled-up-in-unicode>=0.0.4 in d:\\softwareinstall\\lib\\site-packages (from visions==0.7.5->visions[type_image_path]==0.7.5->ydata-profiling->pandas-profiling) (0.2.0)\n",
      "Requirement already satisfied: MarkupSafe>=0.23 in d:\\softwareinstall\\lib\\site-packages (from jinja2<3.2,>=2.11.1->ydata-profiling->pandas-profiling) (1.1.1)\n",
      "Requirement already satisfied: cycler>=0.10 in d:\\softwareinstall\\lib\\site-packages (from matplotlib<3.9,>=3.2->ydata-profiling->pandas-profiling) (0.10.0)\n",
      "Requirement already satisfied: kiwisolver>=1.0.1 in d:\\softwareinstall\\lib\\site-packages (from matplotlib<3.9,>=3.2->ydata-profiling->pandas-profiling) (1.3.1)\n",
      "Requirement already satisfied: pyparsing!=2.0.4,!=2.1.2,!=2.1.6,>=2.0.3 in d:\\softwareinstall\\lib\\site-packages (from matplotlib<3.9,>=3.2->ydata-profiling->pandas-profiling) (2.4.7)\n",
      "Requirement already satisfied: python-dateutil>=2.1 in d:\\softwareinstall\\lib\\site-packages (from matplotlib<3.9,>=3.2->ydata-profiling->pandas-profiling) (2.8.1)\n",
      "Collecting llvmlite<0.42,>=0.41.0dev0 (from numba<0.59.0,>=0.56.0->ydata-profiling->pandas-profiling)\n",
      "  Using cached llvmlite-0.41.1-cp38-cp38-win_amd64.whl.metadata (4.9 kB)\n",
      "Requirement already satisfied: importlib-metadata in d:\\softwareinstall\\lib\\site-packages (from numba<0.59.0,>=0.56.0->ydata-profiling->pandas-profiling) (3.10.0)\n",
      "Requirement already satisfied: pytz>=2017.3 in d:\\softwareinstall\\lib\\site-packages (from pandas!=1.4.0,<3,>1.1->ydata-profiling->pandas-profiling) (2021.1)\n",
      "Requirement already satisfied: joblib>=0.14.1 in d:\\softwareinstall\\lib\\site-packages (from phik<0.13,>=0.11.1->ydata-profiling->pandas-profiling) (1.0.1)\n",
      "Collecting annotated-types>=0.4.0 (from pydantic>=2->ydata-profiling->pandas-profiling)\n",
      "  Using cached annotated_types-0.6.0-py3-none-any.whl.metadata (12 kB)\n",
      "Requirement already satisfied: pydantic-core==2.16.1 in d:\\softwareinstall\\lib\\site-packages (from pydantic>=2->ydata-profiling->pandas-profiling) (2.16.1)\n",
      "Requirement already satisfied: typing-extensions>=4.6.1 in d:\\softwareinstall\\lib\\site-packages (from pydantic>=2->ydata-profiling->pandas-profiling) (4.9.0)\n",
      "Requirement already satisfied: chardet<5,>=3.0.2 in d:\\softwareinstall\\lib\\site-packages (from requests<3,>=2.24.0->ydata-profiling->pandas-profiling) (4.0.0)\n",
      "Requirement already satisfied: idna<3,>=2.5 in d:\\softwareinstall\\lib\\site-packages (from requests<3,>=2.24.0->ydata-profiling->pandas-profiling) (2.10)\n",
      "Requirement already satisfied: urllib3<1.27,>=1.21.1 in d:\\softwareinstall\\lib\\site-packages (from requests<3,>=2.24.0->ydata-profiling->pandas-profiling) (1.26.4)\n",
      "Requirement already satisfied: certifi>=2017.4.17 in d:\\softwareinstall\\lib\\site-packages (from requests<3,>=2.24.0->ydata-profiling->pandas-profiling) (2020.12.5)\n",
      "Requirement already satisfied: patsy>=0.5.4 in d:\\softwareinstall\\lib\\site-packages (from statsmodels<1,>=0.13.2->ydata-profiling->pandas-profiling) (0.5.6)\n",
      "Requirement already satisfied: packaging>=21.3 in d:\\softwareinstall\\lib\\site-packages (from statsmodels<1,>=0.13.2->ydata-profiling->pandas-profiling) (23.2)\n",
      "Requirement already satisfied: six in d:\\softwareinstall\\lib\\site-packages (from cycler>=0.10->matplotlib<3.9,>=3.2->ydata-profiling->pandas-profiling) (1.15.0)\n",
      "Requirement already satisfied: zipp>=0.5 in d:\\softwareinstall\\lib\\site-packages (from importlib-metadata->numba<0.59.0,>=0.56.0->ydata-profiling->pandas-profiling) (3.17.0)\n",
      "Requirement already satisfied: decorator>=4.3.0 in d:\\softwareinstall\\lib\\site-packages (from networkx>=2.4->visions==0.7.5->visions[type_image_path]==0.7.5->ydata-profiling->pandas-profiling) (5.0.6)\n",
      "Using cached ydata_profiling-4.6.4-py2.py3-none-any.whl (357 kB)\n",
      "Using cached dacite-1.8.1-py3-none-any.whl (14 kB)\n",
      "Using cached numba-0.58.1-cp38-cp38-win_amd64.whl (2.6 MB)"
     ]
    },
    {
     "name": "stderr",
     "output_type": "stream",
     "text": [
      "WARNING: visions 0.7.5 does not provide the extra 'type-image-path'\n",
      "DEPRECATION: pyodbc 4.0.0-unsupported has a non-standard version number. pip 24.1 will enforce this behaviour change. A possible replacement is to upgrade to a newer version of pyodbc or contact the author to suggest that they release a version with a conforming version number. Discussion can be found at https://github.com/pypa/pip/issues/12063\n",
      "ERROR: Cannot uninstall 'llvmlite'. It is a distutils installed project and thus we cannot accurately determine which files belong to it which would lead to only a partial uninstall.\n"
     ]
    },
    {
     "name": "stdout",
     "output_type": "stream",
     "text": [
      "\n",
      "Using cached phik-0.12.4-cp38-cp38-win_amd64.whl (666 kB)\n",
      "Using cached pydantic-2.6.0-py3-none-any.whl (394 kB)\n",
      "Using cached statsmodels-0.14.1-cp38-cp38-win_amd64.whl (10.0 MB)\n",
      "Using cached typeguard-4.1.5-py3-none-any.whl (34 kB)\n",
      "Using cached wordcloud-1.9.3-cp38-cp38-win_amd64.whl (300 kB)\n",
      "Using cached annotated_types-0.6.0-py3-none-any.whl (12 kB)\n",
      "Using cached llvmlite-0.41.1-cp38-cp38-win_amd64.whl (28.1 MB)\n",
      "Installing collected packages: llvmlite, dacite, annotated-types, typeguard, pydantic, numba, imagehash, wordcloud, statsmodels, phik, ydata-profiling, pandas-profiling\n",
      "  Attempting uninstall: llvmlite\n",
      "    Found existing installation: llvmlite 0.36.0\n"
     ]
    }
   ],
   "source": [
    "import sys\n",
    "!{sys.executable} -m pip install pandas-profiling"
   ]
  },
  {
   "cell_type": "code",
   "execution_count": null,
   "id": "bea07b0a",
   "metadata": {},
   "outputs": [],
   "source": []
  }
 ],
 "metadata": {
  "kernelspec": {
   "display_name": "Python 3",
   "language": "python",
   "name": "python3"
  },
  "language_info": {
   "codemirror_mode": {
    "name": "ipython",
    "version": 3
   },
   "file_extension": ".py",
   "mimetype": "text/x-python",
   "name": "python",
   "nbconvert_exporter": "python",
   "pygments_lexer": "ipython3",
   "version": "3.8.8"
  }
 },
 "nbformat": 4,
 "nbformat_minor": 5
}
