{
 "cells": [
  {
   "cell_type": "code",
   "execution_count": 2,
   "id": "114e4e8f",
   "metadata": {},
   "outputs": [
    {
     "name": "stdout",
     "output_type": "stream",
     "text": [
      "a is equal to b\n"
     ]
    }
   ],
   "source": [
    "A=\"mukhil\"\n",
    "B=A\n",
    "if A==B:\n",
    "    print(\"a is equal to b\")\n",
    "else:\n",
    "    print(\"a is not equal to b\")"
   ]
  },
  {
   "cell_type": "code",
   "execution_count": 3,
   "id": "ad0e3698",
   "metadata": {},
   "outputs": [
    {
     "name": "stdout",
     "output_type": "stream",
     "text": [
      "enter any number45\n",
      "Greetings!\n"
     ]
    }
   ],
   "source": [
    "\"\"\" Print hello if spam ==1\n",
    "Howdy if spam==2\n",
    "Print Greetings is Spam==\n",
    "\"\"\"\n",
    "spam=int(input(\"enter any number\"))\n",
    "if spam==1:\n",
    "    print(\"Hello\")\n",
    "elif spam==2:\n",
    "    print(\"Howdy\")\n",
    "else:\n",
    "    print(\"Greetings!\")\n",
    "    \n"
   ]
  },
  {
   "cell_type": "code",
   "execution_count": 1,
   "id": "880b3950",
   "metadata": {},
   "outputs": [
    {
     "name": "stdout",
     "output_type": "stream",
     "text": [
      "elif valid stmt\n"
     ]
    }
   ],
   "source": [
    "a= 20\n",
    "b=40\n",
    "if a==20 and b>40:\n",
    "    print(\"valid stmt\")\n",
    "elif a==20 and b<=40:\n",
    "    print(\"elif valid stmt\")\n",
    "else:\n",
    "    print(\"else valid stmt\")"
   ]
  },
  {
   "cell_type": "code",
   "execution_count": 3,
   "id": "c80b0eee",
   "metadata": {},
   "outputs": [
    {
     "name": "stdout",
     "output_type": "stream",
     "text": [
      "enter you 1st name: mukhil\n",
      "enter you last name: r\n",
      "invalid name\n"
     ]
    }
   ],
   "source": [
    "a=input(\"enter you 1st name: \")\n",
    "b=input(\"enter you last name: \")\n",
    "\n",
    "if a==\"mukhil\" and b==\"R\": print(\"valid name\")\n",
    "else:\n",
    "    print(\"invalid name\")"
   ]
  },
  {
   "cell_type": "code",
   "execution_count": 4,
   "id": "209e42d1",
   "metadata": {},
   "outputs": [],
   "source": [
    "## WHILE LOOP"
   ]
  },
  {
   "cell_type": "code",
   "execution_count": 1,
   "id": "64d63e63",
   "metadata": {},
   "outputs": [
    {
     "name": "stdout",
     "output_type": "stream",
     "text": [
      "speed\n",
      "speed\n",
      "speed\n"
     ]
    }
   ],
   "source": [
    "intial_speed=0\n",
    "final_speed=100\n",
    "count=1 ## variable \n",
    "while intial_speed<final_speed:\n",
    "    print(\"speed\")\n",
    "    count=count+1\n",
    "    if count==4:\n",
    "        break  ## break the loop"
   ]
  },
  {
   "cell_type": "code",
   "execution_count": 3,
   "id": "d5e5aeff",
   "metadata": {},
   "outputs": [
    {
     "name": "stdout",
     "output_type": "stream",
     "text": [
      "1\n",
      "2\n",
      "3\n",
      "4\n"
     ]
    }
   ],
   "source": [
    "i=1\n",
    "j=5\n",
    "while i<j:\n",
    "    print(i)\n",
    "    i=i+1\n",
    "    "
   ]
  },
  {
   "cell_type": "code",
   "execution_count": null,
   "id": "c8011796",
   "metadata": {},
   "outputs": [],
   "source": []
  }
 ],
 "metadata": {
  "kernelspec": {
   "display_name": "Python 3",
   "language": "python",
   "name": "python3"
  },
  "language_info": {
   "codemirror_mode": {
    "name": "ipython",
    "version": 3
   },
   "file_extension": ".py",
   "mimetype": "text/x-python",
   "name": "python",
   "nbconvert_exporter": "python",
   "pygments_lexer": "ipython3",
   "version": "3.8.8"
  }
 },
 "nbformat": 4,
 "nbformat_minor": 5
}
