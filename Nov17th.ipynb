{
 "cells": [
  {
   "cell_type": "code",
   "execution_count": 23,
   "id": "dd8a6445",
   "metadata": {},
   "outputs": [
    {
     "name": "stdout",
     "output_type": "stream",
     "text": [
      "1\n",
      "2\n",
      "3\n",
      "4\n",
      "5\n",
      "no 10 rs notes are available\n"
     ]
    }
   ],
   "source": [
    "\n",
    "notes = 5\n",
    "i=1\n",
    "j=1\n",
    "while i<notes:\n",
    "    print(i)\n",
    "    i +=1\n",
    "else :\n",
    "    while j<2:\n",
    "        print (i)\n",
    "        j=j+1\n",
    "    print(\"no 10 rs notes are available\")"
   ]
  },
  {
   "cell_type": "code",
   "execution_count": 24,
   "id": "e370d9a4",
   "metadata": {},
   "outputs": [],
   "source": [
    "s=\"my name is mukhil\""
   ]
  },
  {
   "cell_type": "code",
   "execution_count": 25,
   "id": "98718b73",
   "metadata": {},
   "outputs": [
    {
     "data": {
      "text/plain": [
       "'my name is mukhil'"
      ]
     },
     "execution_count": 25,
     "metadata": {},
     "output_type": "execute_result"
    }
   ],
   "source": [
    "s"
   ]
  },
  {
   "cell_type": "code",
   "execution_count": 26,
   "id": "6e2e1a71",
   "metadata": {},
   "outputs": [
    {
     "data": {
      "text/plain": [
       "'nm smk'"
      ]
     },
     "execution_count": 26,
     "metadata": {},
     "output_type": "execute_result"
    }
   ],
   "source": [
    "s[3:15:2]"
   ]
  },
  {
   "cell_type": "code",
   "execution_count": 27,
   "id": "5b14183b",
   "metadata": {},
   "outputs": [
    {
     "data": {
      "text/plain": [
       "' si ema'"
      ]
     },
     "execution_count": 27,
     "metadata": {},
     "output_type": "execute_result"
    }
   ],
   "source": [
    "s[10:3:-1]"
   ]
  },
  {
   "cell_type": "code",
   "execution_count": 28,
   "id": "29bf5d61",
   "metadata": {},
   "outputs": [
    {
     "data": {
      "text/plain": [
       "'lhu iea m'"
      ]
     },
     "execution_count": 28,
     "metadata": {},
     "output_type": "execute_result"
    }
   ],
   "source": [
    "s[::-2]"
   ]
  },
  {
   "cell_type": "code",
   "execution_count": 29,
   "id": "f4ff3dd0",
   "metadata": {},
   "outputs": [
    {
     "data": {
      "text/plain": [
       "' name is'"
      ]
     },
     "execution_count": 29,
     "metadata": {},
     "output_type": "execute_result"
    }
   ],
   "source": [
    "s[2:-7]"
   ]
  },
  {
   "cell_type": "code",
   "execution_count": 30,
   "id": "79ddb2c7",
   "metadata": {},
   "outputs": [],
   "source": [
    "s=\"my name is mukhil\""
   ]
  },
  {
   "cell_type": "code",
   "execution_count": 31,
   "id": "68945258",
   "metadata": {},
   "outputs": [
    {
     "data": {
      "text/plain": [
       "'l'"
      ]
     },
     "execution_count": 31,
     "metadata": {},
     "output_type": "execute_result"
    }
   ],
   "source": [
    "s[-1]"
   ]
  },
  {
   "cell_type": "code",
   "execution_count": 32,
   "id": "feb86a6e",
   "metadata": {},
   "outputs": [
    {
     "name": "stdout",
     "output_type": "stream",
     "text": [
      "m\n",
      "y\n",
      "n\n",
      "a\n",
      "m\n",
      "e\n",
      "i\n",
      "s\n",
      "m\n",
      "u\n",
      "k\n",
      "h\n",
      "i\n",
      "l\n",
      "last char was l\n",
      "this is an else condition\n"
     ]
    }
   ],
   "source": [
    "for i in s:\n",
    "    if i==\" \":\n",
    "        continue\n",
    "    print(i)\n",
    "else :\n",
    "    if i=='l':\n",
    "        print(\"last char was l\")\n",
    "    print(\"this is an else condition\")\n"
   ]
  },
  {
   "cell_type": "code",
   "execution_count": 33,
   "id": "3468cf0b",
   "metadata": {},
   "outputs": [],
   "source": [
    "s=\"ineuron\"\n",
    "ss=\"\"\n",
    "for i in range(len(s)):\n",
    "    if s[i]==\"n\":\n",
    "        continue\n",
    "    else:\n",
    "        ss=ss+s[i]"
   ]
  },
  {
   "cell_type": "code",
   "execution_count": 34,
   "id": "c6328951",
   "metadata": {},
   "outputs": [
    {
     "data": {
      "text/plain": [
       "'ieuro'"
      ]
     },
     "execution_count": 34,
     "metadata": {},
     "output_type": "execute_result"
    }
   ],
   "source": [
    "ss"
   ]
  },
  {
   "cell_type": "code",
   "execution_count": 35,
   "id": "a0260189",
   "metadata": {},
   "outputs": [
    {
     "name": "stdout",
     "output_type": "stream",
     "text": [
      "+ \n",
      "+ + \n",
      "+ + + \n",
      "+ + + + \n",
      "+ + + + + \n",
      "+ + + + + + \n",
      "+ + + + + + + \n"
     ]
    }
   ],
   "source": [
    "n=7\n",
    "for i in range(0,n,1):\n",
    "    for j in range(0,i+1):\n",
    "        print(\"+ \", end=\"\")\n",
    "    print(\"\")"
   ]
  },
  {
   "cell_type": "code",
   "execution_count": 36,
   "id": "4ec73715",
   "metadata": {},
   "outputs": [
    {
     "name": "stdout",
     "output_type": "stream",
     "text": [
      "+  +  +  +  +  +  +  \n",
      "+  +  +  +  +  +  \n",
      "+  +  +  +  +  \n",
      "+  +  +  +  \n",
      "+  +  +  \n",
      "+  +  \n",
      "+  \n"
     ]
    }
   ],
   "source": [
    "n=7\n",
    "for i in range(n,0,-1):\n",
    "    for j in range(0,i):\n",
    "        print(\"+ \", end=\" \")\n",
    "    print(\"\")"
   ]
  },
  {
   "cell_type": "code",
   "execution_count": 62,
   "id": "ae43c70b",
   "metadata": {},
   "outputs": [
    {
     "name": "stdout",
     "output_type": "stream",
     "text": [
      "* * * * * "
     ]
    }
   ],
   "source": [
    "for i in range(5):\n",
    "    print(\"*\",end=\" \")"
   ]
  },
  {
   "cell_type": "code",
   "execution_count": 59,
   "id": "996227bb",
   "metadata": {},
   "outputs": [
    {
     "name": "stdout",
     "output_type": "stream",
     "text": [
      "-------------* * * * * * * * \n",
      "--------------* * * * * * * \n",
      "---------------* * * * * * \n",
      "----------------* * * * * \n",
      "-----------------* * * * \n",
      "------------------* * * \n",
      "-------------------* * \n",
      "--------------------* \n"
     ]
    }
   ],
   "source": [
    "n=7\n",
    "m=2*n-1\n",
    "for i in range(n,-1,-1):\n",
    "    for j in range(m,0,-1):\n",
    "        print(end=\"-\")\n",
    "    m=m+1\n",
    "    for j in range(0,i+1):\n",
    "        print(\"*\", end=\" \")\n",
    "    print(\"\")"
   ]
  },
  {
   "cell_type": "code",
   "execution_count": 38,
   "id": "aa130ff2",
   "metadata": {},
   "outputs": [
    {
     "name": "stdout",
     "output_type": "stream",
     "text": [
      "8\n",
      "10\n"
     ]
    }
   ],
   "source": [
    "for i in range(8,12,2):\n",
    "    print(i)"
   ]
  },
  {
   "cell_type": "code",
   "execution_count": 39,
   "id": "07cf8e79",
   "metadata": {},
   "outputs": [
    {
     "name": "stdout",
     "output_type": "stream",
     "text": [
      "--* \n",
      "-* * \n",
      "* * * \n"
     ]
    }
   ],
   "source": [
    "n=3\n",
    "i=0\n",
    "while i<n:\n",
    "    print('-'*(n-i-1) + '* '*(i+1))\n",
    "    i +=1"
   ]
  },
  {
   "cell_type": "code",
   "execution_count": 40,
   "id": "b6f2ced7",
   "metadata": {},
   "outputs": [
    {
     "name": "stdout",
     "output_type": "stream",
     "text": [
      " *   *   *   *   *   *   *  \n",
      "   *   *   *   *   *   *  \n",
      "     *   *   *   *   *  \n",
      "       *   *   *   *  \n",
      "         *   *   *  \n",
      "           *   *  \n",
      "             *  \n"
     ]
    }
   ],
   "source": [
    "n=7\n",
    "for i in range(n,0,-1):\n",
    "    for j in range(n-i):\n",
    "        print(' ',end=\" \")\n",
    "    \n",
    "    for j in range(i):\n",
    "        print(' * ',end=\" \")\n",
    "    print()"
   ]
  },
  {
   "cell_type": "code",
   "execution_count": 41,
   "id": "082f7dd4",
   "metadata": {},
   "outputs": [],
   "source": [
    "l=list()  "
   ]
  },
  {
   "cell_type": "code",
   "execution_count": 42,
   "id": "3b9ee675",
   "metadata": {},
   "outputs": [],
   "source": [
    "l=[\"mukhil\", 34343,\"dasdas\"]"
   ]
  },
  {
   "cell_type": "code",
   "execution_count": null,
   "id": "ff927e8c",
   "metadata": {},
   "outputs": [],
   "source": []
  },
  {
   "cell_type": "code",
   "execution_count": 43,
   "id": "65bed456",
   "metadata": {},
   "outputs": [
    {
     "data": {
      "text/plain": [
       "['mukhil', 34343, 'dasdas']"
      ]
     },
     "execution_count": 43,
     "metadata": {},
     "output_type": "execute_result"
    }
   ],
   "source": [
    "l"
   ]
  },
  {
   "cell_type": "code",
   "execution_count": 51,
   "id": "8af84bbd",
   "metadata": {},
   "outputs": [
    {
     "data": {
      "text/plain": [
       "list"
      ]
     },
     "execution_count": 51,
     "metadata": {},
     "output_type": "execute_result"
    }
   ],
   "source": [
    "l1=[\"mukhil\",89]\n",
    "type(l1)"
   ]
  },
  {
   "cell_type": "code",
   "execution_count": 53,
   "id": "8f78023f",
   "metadata": {},
   "outputs": [
    {
     "name": "stdout",
     "output_type": "stream",
     "text": [
      "95\n",
      "<class 'int'>\n"
     ]
    }
   ],
   "source": [
    "l=[\"mukhil\", 34343,\"dasdas\",l1]\n",
    "for i in l:\n",
    "    if type(i) == list:\n",
    "        n=0\n",
    "        for j in i:\n",
    "            if type(j)==int:\n",
    "                n=6+j\n",
    "        print(n)\n",
    "        print(type(j))"
   ]
  },
  {
   "cell_type": "code",
   "execution_count": 56,
   "id": "311f2ed4",
   "metadata": {},
   "outputs": [
    {
     "data": {
      "text/plain": [
       "[['mukhil', 89], 'dasdas']"
      ]
     },
     "execution_count": 56,
     "metadata": {},
     "output_type": "execute_result"
    }
   ],
   "source": [
    "l[3:1:-1]"
   ]
  },
  {
   "cell_type": "code",
   "execution_count": 63,
   "id": "a80036f6",
   "metadata": {},
   "outputs": [],
   "source": [
    "l=[1,2,3,5,7]"
   ]
  },
  {
   "cell_type": "code",
   "execution_count": 66,
   "id": "ba4a1b41",
   "metadata": {},
   "outputs": [
    {
     "data": {
      "text/plain": [
       "[7, 5, 3]"
      ]
     },
     "execution_count": 66,
     "metadata": {},
     "output_type": "execute_result"
    }
   ],
   "source": [
    "l[5:1:-1]"
   ]
  },
  {
   "cell_type": "code",
   "execution_count": null,
   "id": "0489c186",
   "metadata": {},
   "outputs": [],
   "source": []
  }
 ],
 "metadata": {
  "kernelspec": {
   "display_name": "Python 3",
   "language": "python",
   "name": "python3"
  },
  "language_info": {
   "codemirror_mode": {
    "name": "ipython",
    "version": 3
   },
   "file_extension": ".py",
   "mimetype": "text/x-python",
   "name": "python",
   "nbconvert_exporter": "python",
   "pygments_lexer": "ipython3",
   "version": "3.8.8"
  }
 },
 "nbformat": 4,
 "nbformat_minor": 5
}
