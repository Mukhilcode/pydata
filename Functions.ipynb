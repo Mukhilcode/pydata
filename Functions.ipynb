{
 "cells": [
  {
   "cell_type": "code",
   "execution_count": 1,
   "id": "fb1b5d7a",
   "metadata": {},
   "outputs": [
    {
     "data": {
      "text/plain": [
       "3"
      ]
     },
     "execution_count": 1,
     "metadata": {},
     "output_type": "execute_result"
    }
   ],
   "source": [
    "b=1\n",
    "a=2\n",
    "a+b"
   ]
  },
  {
   "cell_type": "code",
   "execution_count": 8,
   "id": "9ff08493",
   "metadata": {},
   "outputs": [],
   "source": [
    "def test(x,y):\n",
    "    print(x+y)"
   ]
  },
  {
   "cell_type": "code",
   "execution_count": 12,
   "id": "1a724f91",
   "metadata": {},
   "outputs": [
    {
     "name": "stdout",
     "output_type": "stream",
     "text": [
      "68\n"
     ]
    },
    {
     "data": {
      "text/plain": [
       "NoneType"
      ]
     },
     "execution_count": 12,
     "metadata": {},
     "output_type": "execute_result"
    }
   ],
   "source": [
    "type(test(23,45))"
   ]
  },
  {
   "cell_type": "code",
   "execution_count": 10,
   "id": "6c93c923",
   "metadata": {},
   "outputs": [],
   "source": [
    "def test1(b,m):\n",
    "    return b*m"
   ]
  },
  {
   "cell_type": "code",
   "execution_count": 13,
   "id": "9f8a96a1",
   "metadata": {},
   "outputs": [
    {
     "data": {
      "text/plain": [
       "int"
      ]
     },
     "execution_count": 13,
     "metadata": {},
     "output_type": "execute_result"
    }
   ],
   "source": [
    "type(test1(4,6))"
   ]
  },
  {
   "cell_type": "code",
   "execution_count": 14,
   "id": "80ad7166",
   "metadata": {},
   "outputs": [],
   "source": [
    "def test2(t,n,m):\n",
    "    return t+n"
   ]
  },
  {
   "cell_type": "code",
   "execution_count": 16,
   "id": "2e95a86e",
   "metadata": {},
   "outputs": [
    {
     "data": {
      "text/plain": [
       "5"
      ]
     },
     "execution_count": 16,
     "metadata": {},
     "output_type": "execute_result"
    }
   ],
   "source": [
    "test2(3,2,6)"
   ]
  },
  {
   "cell_type": "code",
   "execution_count": 19,
   "id": "2dc9e9ca",
   "metadata": {},
   "outputs": [],
   "source": [
    "def test3(n,m):\n",
    "    return n*10, m*33,m+n"
   ]
  },
  {
   "cell_type": "code",
   "execution_count": 20,
   "id": "5901edc8",
   "metadata": {},
   "outputs": [
    {
     "data": {
      "text/plain": [
       "(100, 330, 20)"
      ]
     },
     "execution_count": 20,
     "metadata": {},
     "output_type": "execute_result"
    }
   ],
   "source": [
    "test3(10,10)"
   ]
  },
  {
   "cell_type": "code",
   "execution_count": 21,
   "id": "00089dcb",
   "metadata": {},
   "outputs": [],
   "source": [
    "c,v,x=test3(3,2)"
   ]
  },
  {
   "cell_type": "code",
   "execution_count": 22,
   "id": "d899ce27",
   "metadata": {},
   "outputs": [
    {
     "data": {
      "text/plain": [
       "30"
      ]
     },
     "execution_count": 22,
     "metadata": {},
     "output_type": "execute_result"
    }
   ],
   "source": [
    "c"
   ]
  },
  {
   "cell_type": "code",
   "execution_count": 23,
   "id": "7804e65e",
   "metadata": {},
   "outputs": [
    {
     "data": {
      "text/plain": [
       "int"
      ]
     },
     "execution_count": 23,
     "metadata": {},
     "output_type": "execute_result"
    }
   ],
   "source": [
    "type(c)"
   ]
  },
  {
   "cell_type": "code",
   "execution_count": 25,
   "id": "262ca711",
   "metadata": {},
   "outputs": [
    {
     "data": {
      "text/plain": [
       "tuple"
      ]
     },
     "execution_count": 25,
     "metadata": {},
     "output_type": "execute_result"
    }
   ],
   "source": [
    "type(test3(2,7))"
   ]
  },
  {
   "cell_type": "code",
   "execution_count": 26,
   "id": "b5c94460",
   "metadata": {},
   "outputs": [],
   "source": [
    "c,v,_=test3(2,3)"
   ]
  },
  {
   "cell_type": "code",
   "execution_count": 27,
   "id": "10330387",
   "metadata": {},
   "outputs": [
    {
     "data": {
      "text/plain": [
       "5"
      ]
     },
     "execution_count": 27,
     "metadata": {},
     "output_type": "execute_result"
    }
   ],
   "source": [
    "_"
   ]
  },
  {
   "cell_type": "code",
   "execution_count": 28,
   "id": "ba660d3f",
   "metadata": {},
   "outputs": [
    {
     "data": {
      "text/plain": [
       "20"
      ]
     },
     "execution_count": 28,
     "metadata": {},
     "output_type": "execute_result"
    }
   ],
   "source": [
    "c"
   ]
  },
  {
   "cell_type": "code",
   "execution_count": 29,
   "id": "c3ae2d6b",
   "metadata": {},
   "outputs": [
    {
     "data": {
      "text/plain": [
       "99"
      ]
     },
     "execution_count": 29,
     "metadata": {},
     "output_type": "execute_result"
    }
   ],
   "source": [
    "v"
   ]
  },
  {
   "cell_type": "code",
   "execution_count": 30,
   "id": "6bb9ee97",
   "metadata": {},
   "outputs": [
    {
     "data": {
      "text/plain": [
       "5"
      ]
     },
     "execution_count": 30,
     "metadata": {},
     "output_type": "execute_result"
    }
   ],
   "source": [
    "_"
   ]
  },
  {
   "cell_type": "code",
   "execution_count": 31,
   "id": "8f629823",
   "metadata": {},
   "outputs": [],
   "source": [
    "def test():\n",
    "    print(\"this is my fist function\")"
   ]
  },
  {
   "cell_type": "code",
   "execution_count": 32,
   "id": "e31c7902",
   "metadata": {},
   "outputs": [
    {
     "name": "stdout",
     "output_type": "stream",
     "text": [
      "this is my fist function\n"
     ]
    }
   ],
   "source": [
    "m=test()"
   ]
  },
  {
   "cell_type": "code",
   "execution_count": 33,
   "id": "5f06a360",
   "metadata": {},
   "outputs": [],
   "source": [
    "m"
   ]
  },
  {
   "cell_type": "code",
   "execution_count": 34,
   "id": "9daaba30",
   "metadata": {},
   "outputs": [],
   "source": [
    "def test7():\n",
    "    return \"this is my 1st funtion\""
   ]
  },
  {
   "cell_type": "code",
   "execution_count": 35,
   "id": "ed76a2e6",
   "metadata": {},
   "outputs": [],
   "source": [
    "m=test7()"
   ]
  },
  {
   "cell_type": "code",
   "execution_count": 36,
   "id": "af5276e8",
   "metadata": {},
   "outputs": [
    {
     "data": {
      "text/plain": [
       "'this is my 1st funtion'"
      ]
     },
     "execution_count": 36,
     "metadata": {},
     "output_type": "execute_result"
    }
   ],
   "source": [
    "m"
   ]
  },
  {
   "cell_type": "code",
   "execution_count": 37,
   "id": "c2df6122",
   "metadata": {},
   "outputs": [],
   "source": [
    "def test8(n):\n",
    "    return n*2"
   ]
  },
  {
   "cell_type": "code",
   "execution_count": 38,
   "id": "135f3ac7",
   "metadata": {},
   "outputs": [
    {
     "data": {
      "text/plain": [
       "[3, 3, 5, 2, 2, 3, 3, 5, 2, 2]"
      ]
     },
     "execution_count": 38,
     "metadata": {},
     "output_type": "execute_result"
    }
   ],
   "source": [
    "test8([3,3,5,2,2])"
   ]
  },
  {
   "cell_type": "code",
   "execution_count": 39,
   "id": "856096c8",
   "metadata": {},
   "outputs": [],
   "source": [
    "def test9(n):\n",
    "    return n,n*2"
   ]
  },
  {
   "cell_type": "code",
   "execution_count": 40,
   "id": "6e405c4c",
   "metadata": {},
   "outputs": [],
   "source": [
    "b=test9([4,3,5,2])"
   ]
  },
  {
   "cell_type": "code",
   "execution_count": 41,
   "id": "6409aeac",
   "metadata": {},
   "outputs": [
    {
     "data": {
      "text/plain": [
       "([4, 3, 5, 2], [4, 3, 5, 2, 4, 3, 5, 2])"
      ]
     },
     "execution_count": 41,
     "metadata": {},
     "output_type": "execute_result"
    }
   ],
   "source": [
    "b"
   ]
  },
  {
   "cell_type": "code",
   "execution_count": 42,
   "id": "b7c5df1c",
   "metadata": {},
   "outputs": [
    {
     "data": {
      "text/plain": [
       "tuple"
      ]
     },
     "execution_count": 42,
     "metadata": {},
     "output_type": "execute_result"
    }
   ],
   "source": [
    "type(test9([4,3,5,2]))"
   ]
  },
  {
   "cell_type": "code",
   "execution_count": 1,
   "id": "8376233c",
   "metadata": {},
   "outputs": [],
   "source": [
    "def test10(n,m=90):\n",
    "    return n+m"
   ]
  },
  {
   "cell_type": "code",
   "execution_count": 2,
   "id": "8eb22423",
   "metadata": {},
   "outputs": [
    {
     "data": {
      "text/plain": [
       "120"
      ]
     },
     "execution_count": 2,
     "metadata": {},
     "output_type": "execute_result"
    }
   ],
   "source": [
    "test10(30)"
   ]
  },
  {
   "cell_type": "code",
   "execution_count": 3,
   "id": "9735e700",
   "metadata": {},
   "outputs": [
    {
     "data": {
      "text/plain": [
       "90"
      ]
     },
     "execution_count": 3,
     "metadata": {},
     "output_type": "execute_result"
    }
   ],
   "source": [
    "test10(60,30)"
   ]
  },
  {
   "cell_type": "code",
   "execution_count": 4,
   "id": "c55974ae",
   "metadata": {},
   "outputs": [
    {
     "name": "stdout",
     "output_type": "stream",
     "text": [
      "\n"
     ]
    }
   ],
   "source": [
    "print()"
   ]
  },
  {
   "cell_type": "code",
   "execution_count": 1,
   "id": "b1c10064",
   "metadata": {},
   "outputs": [],
   "source": [
    "def boolx(x=True,y=False):\n",
    "    return x+y"
   ]
  },
  {
   "cell_type": "code",
   "execution_count": 2,
   "id": "fe95d4b9",
   "metadata": {},
   "outputs": [
    {
     "data": {
      "text/plain": [
       "1"
      ]
     },
     "execution_count": 2,
     "metadata": {},
     "output_type": "execute_result"
    }
   ],
   "source": [
    "boolx()"
   ]
  },
  {
   "cell_type": "code",
   "execution_count": 3,
   "id": "010f5601",
   "metadata": {},
   "outputs": [
    {
     "data": {
      "text/plain": [
       "0"
      ]
     },
     "execution_count": 3,
     "metadata": {},
     "output_type": "execute_result"
    }
   ],
   "source": [
    "boolx(False)"
   ]
  },
  {
   "cell_type": "code",
   "execution_count": 5,
   "id": "819d57f3",
   "metadata": {},
   "outputs": [
    {
     "data": {
      "text/plain": [
       "9"
      ]
     },
     "execution_count": 5,
     "metadata": {},
     "output_type": "execute_result"
    }
   ],
   "source": [
    "boolx(False,9)"
   ]
  },
  {
   "cell_type": "code",
   "execution_count": 6,
   "id": "9727ecd9",
   "metadata": {},
   "outputs": [],
   "source": [
    "def travel(bike=True,car=False):\n",
    "    plan_travel=bike or car\n",
    "    return bike, car, plan_travel"
   ]
  },
  {
   "cell_type": "code",
   "execution_count": 7,
   "id": "05236602",
   "metadata": {},
   "outputs": [
    {
     "data": {
      "text/plain": [
       "(True, False, True)"
      ]
     },
     "execution_count": 7,
     "metadata": {},
     "output_type": "execute_result"
    }
   ],
   "source": [
    "travel()"
   ]
  },
  {
   "cell_type": "code",
   "execution_count": 8,
   "id": "681b1649",
   "metadata": {},
   "outputs": [
    {
     "data": {
      "text/plain": [
       "(True, False, True)"
      ]
     },
     "execution_count": 8,
     "metadata": {},
     "output_type": "execute_result"
    }
   ],
   "source": [
    "travel(True)"
   ]
  },
  {
   "cell_type": "code",
   "execution_count": 9,
   "id": "ee2db3d4",
   "metadata": {},
   "outputs": [
    {
     "data": {
      "text/plain": [
       "tuple"
      ]
     },
     "execution_count": 9,
     "metadata": {},
     "output_type": "execute_result"
    }
   ],
   "source": [
    "type(travel())"
   ]
  },
  {
   "cell_type": "code",
   "execution_count": 10,
   "id": "f42f7a02",
   "metadata": {},
   "outputs": [
    {
     "data": {
      "text/plain": [
       "(tuple, True, tuple)"
      ]
     },
     "execution_count": 10,
     "metadata": {},
     "output_type": "execute_result"
    }
   ],
   "source": [
    "travel(_,True)"
   ]
  },
  {
   "cell_type": "code",
   "execution_count": 1,
   "id": "acfcdb6c",
   "metadata": {},
   "outputs": [],
   "source": [
    "def test11(*args, a=\"mukhil\"):\n",
    "    return args"
   ]
  },
  {
   "cell_type": "code",
   "execution_count": 2,
   "id": "d6767452",
   "metadata": {},
   "outputs": [
    {
     "data": {
      "text/plain": [
       "('kill', 12, 'gill')"
      ]
     },
     "execution_count": 2,
     "metadata": {},
     "output_type": "execute_result"
    }
   ],
   "source": [
    "test11(\"kill\",12,\"gill\")"
   ]
  },
  {
   "cell_type": "code",
   "execution_count": 5,
   "id": "d3734288",
   "metadata": {},
   "outputs": [],
   "source": [
    "def test12(a,b,c):\n",
    "    return a+b+c"
   ]
  },
  {
   "cell_type": "code",
   "execution_count": 6,
   "id": "970ab3d1",
   "metadata": {},
   "outputs": [
    {
     "data": {
      "text/plain": [
       "[12, 2, 4, 4, 3, 5, 3, 2]"
      ]
     },
     "execution_count": 6,
     "metadata": {},
     "output_type": "execute_result"
    }
   ],
   "source": [
    "test12([12,2],[4,4,3],[5,3,2])"
   ]
  },
  {
   "cell_type": "code",
   "execution_count": 13,
   "id": "b8943b6b",
   "metadata": {},
   "outputs": [],
   "source": [
    "def test13(*args):\n",
    "    l=[]\n",
    "    for i in args:\n",
    "        l=l+i\n",
    "    return l"
   ]
  },
  {
   "cell_type": "code",
   "execution_count": 14,
   "id": "142a0da3",
   "metadata": {},
   "outputs": [
    {
     "data": {
      "text/plain": [
       "[3, 2, 1, 3, 5, 4, 43, 2, 45, 3, 34, 31, 341]"
      ]
     },
     "execution_count": 14,
     "metadata": {},
     "output_type": "execute_result"
    }
   ],
   "source": [
    "test13([3,2,1,3,5],[4,43,2,45],[3,34,31,341])"
   ]
  },
  {
   "cell_type": "code",
   "execution_count": 16,
   "id": "15c4a30e",
   "metadata": {},
   "outputs": [],
   "source": [
    "def test14(*args):\n",
    "    return [i for i in args]"
   ]
  },
  {
   "cell_type": "code",
   "execution_count": 17,
   "id": "895f7bd9",
   "metadata": {},
   "outputs": [
    {
     "data": {
      "text/plain": [
       "[[3, 2, 1, 3], [4, 5, 3, 2, 2]]"
      ]
     },
     "execution_count": 17,
     "metadata": {},
     "output_type": "execute_result"
    }
   ],
   "source": [
    "test14([3,2,1,3],[4,5,3,2,2])"
   ]
  },
  {
   "cell_type": "code",
   "execution_count": null,
   "id": "977593e7",
   "metadata": {},
   "outputs": [],
   "source": []
  }
 ],
 "metadata": {
  "kernelspec": {
   "display_name": "Python 3 (ipykernel)",
   "language": "python",
   "name": "python3"
  },
  "language_info": {
   "codemirror_mode": {
    "name": "ipython",
    "version": 3
   },
   "file_extension": ".py",
   "mimetype": "text/x-python",
   "name": "python",
   "nbconvert_exporter": "python",
   "pygments_lexer": "ipython3",
   "version": "3.9.13"
  }
 },
 "nbformat": 4,
 "nbformat_minor": 5
}
