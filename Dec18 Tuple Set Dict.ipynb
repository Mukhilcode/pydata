{
 "cells": [
  {
   "cell_type": "code",
   "execution_count": 2,
   "id": "a5bfefef",
   "metadata": {},
   "outputs": [
    {
     "name": "stdout",
     "output_type": "stream",
     "text": [
      "hello Python\n"
     ]
    }
   ],
   "source": [
    "print(\"hello Python\")"
   ]
  },
  {
   "cell_type": "code",
   "execution_count": 3,
   "id": "c411a06a",
   "metadata": {},
   "outputs": [],
   "source": [
    "t=()"
   ]
  },
  {
   "cell_type": "code",
   "execution_count": 4,
   "id": "1e45aaa0",
   "metadata": {},
   "outputs": [
    {
     "data": {
      "text/plain": [
       "tuple"
      ]
     },
     "execution_count": 4,
     "metadata": {},
     "output_type": "execute_result"
    }
   ],
   "source": [
    "type(t)"
   ]
  },
  {
   "cell_type": "code",
   "execution_count": 1,
   "id": "25516d56",
   "metadata": {},
   "outputs": [],
   "source": [
    "t1=(2323,45,\"mukhil\",3.22,False)"
   ]
  },
  {
   "cell_type": "code",
   "execution_count": 2,
   "id": "fed71f6f",
   "metadata": {},
   "outputs": [],
   "source": [
    "l1=[2323,45,\"mukhil\",3.22,False]"
   ]
  },
  {
   "cell_type": "code",
   "execution_count": 3,
   "id": "9f52d071",
   "metadata": {},
   "outputs": [
    {
     "data": {
      "text/plain": [
       "2323"
      ]
     },
     "execution_count": 3,
     "metadata": {},
     "output_type": "execute_result"
    }
   ],
   "source": [
    "t1[0]"
   ]
  },
  {
   "cell_type": "code",
   "execution_count": 4,
   "id": "8d389ea2",
   "metadata": {},
   "outputs": [
    {
     "data": {
      "text/plain": [
       "False"
      ]
     },
     "execution_count": 4,
     "metadata": {},
     "output_type": "execute_result"
    }
   ],
   "source": [
    "t1[-1]"
   ]
  },
  {
   "cell_type": "code",
   "execution_count": 5,
   "id": "18273539",
   "metadata": {},
   "outputs": [],
   "source": [
    "l1[0]=\"liju\""
   ]
  },
  {
   "cell_type": "code",
   "execution_count": 6,
   "id": "9f3ba883",
   "metadata": {},
   "outputs": [
    {
     "data": {
      "text/plain": [
       "['liju', 45, 'mukhil', 3.22, False]"
      ]
     },
     "execution_count": 6,
     "metadata": {},
     "output_type": "execute_result"
    }
   ],
   "source": [
    "l1"
   ]
  },
  {
   "cell_type": "code",
   "execution_count": 7,
   "id": "f3615a41",
   "metadata": {},
   "outputs": [
    {
     "data": {
      "text/plain": [
       "2323"
      ]
     },
     "execution_count": 7,
     "metadata": {},
     "output_type": "execute_result"
    }
   ],
   "source": [
    "t1[0]"
   ]
  },
  {
   "cell_type": "code",
   "execution_count": 9,
   "id": "c7bc6702",
   "metadata": {},
   "outputs": [
    {
     "ename": "TypeError",
     "evalue": "'tuple' object does not support item assignment",
     "output_type": "error",
     "traceback": [
      "\u001b[1;31m---------------------------------------------------------------------------\u001b[0m",
      "\u001b[1;31mTypeError\u001b[0m                                 Traceback (most recent call last)",
      "\u001b[1;32m<ipython-input-9-3008466414c8>\u001b[0m in \u001b[0;36m<module>\u001b[1;34m\u001b[0m\n\u001b[1;32m----> 1\u001b[1;33m \u001b[0mt1\u001b[0m\u001b[1;33m[\u001b[0m\u001b[1;36m0\u001b[0m\u001b[1;33m]\u001b[0m\u001b[1;33m=\u001b[0m\u001b[1;34m\"mukhil\"\u001b[0m\u001b[1;33m\u001b[0m\u001b[1;33m\u001b[0m\u001b[0m\n\u001b[0m",
      "\u001b[1;31mTypeError\u001b[0m: 'tuple' object does not support item assignment"
     ]
    }
   ],
   "source": [
    "t1[0]=\"mukhil\""
   ]
  },
  {
   "cell_type": "code",
   "execution_count": 10,
   "id": "861a4a5e",
   "metadata": {},
   "outputs": [],
   "source": [
    "t2=(42,213,4324)"
   ]
  },
  {
   "cell_type": "code",
   "execution_count": 11,
   "id": "88c464ad",
   "metadata": {},
   "outputs": [
    {
     "data": {
      "text/plain": [
       "(2323, 45, 'mukhil', 3.22, False, 42, 213, 4324)"
      ]
     },
     "execution_count": 11,
     "metadata": {},
     "output_type": "execute_result"
    }
   ],
   "source": [
    "t1+t2"
   ]
  },
  {
   "cell_type": "code",
   "execution_count": 12,
   "id": "626f6871",
   "metadata": {},
   "outputs": [
    {
     "data": {
      "text/plain": [
       "(42, 213, 4324, 42, 213, 4324, 42, 213, 4324)"
      ]
     },
     "execution_count": 12,
     "metadata": {},
     "output_type": "execute_result"
    }
   ],
   "source": [
    "t2*3"
   ]
  },
  {
   "cell_type": "code",
   "execution_count": 13,
   "id": "e58700bf",
   "metadata": {},
   "outputs": [
    {
     "data": {
      "text/plain": [
       "(2323, 45, 'mukhil', 3.22, False)"
      ]
     },
     "execution_count": 13,
     "metadata": {},
     "output_type": "execute_result"
    }
   ],
   "source": [
    "t1"
   ]
  },
  {
   "cell_type": "code",
   "execution_count": 14,
   "id": "be893d77",
   "metadata": {},
   "outputs": [
    {
     "data": {
      "text/plain": [
       "True"
      ]
     },
     "execution_count": 14,
     "metadata": {},
     "output_type": "execute_result"
    }
   ],
   "source": [
    "42 in t2"
   ]
  },
  {
   "cell_type": "code",
   "execution_count": 15,
   "id": "a122c7f2",
   "metadata": {},
   "outputs": [
    {
     "data": {
      "text/plain": [
       "4324"
      ]
     },
     "execution_count": 15,
     "metadata": {},
     "output_type": "execute_result"
    }
   ],
   "source": [
    "max(t2)"
   ]
  },
  {
   "cell_type": "code",
   "execution_count": 17,
   "id": "81cdc4b6",
   "metadata": {},
   "outputs": [],
   "source": [
    "t1=(2323,45,\"mukhil\",3.22,False)"
   ]
  },
  {
   "cell_type": "code",
   "execution_count": 18,
   "id": "43ddb387",
   "metadata": {},
   "outputs": [],
   "source": [
    "t2=(90,454)"
   ]
  },
  {
   "cell_type": "code",
   "execution_count": 3,
   "id": "e12f841f",
   "metadata": {},
   "outputs": [
    {
     "data": {
      "text/plain": [
       "(2323, 45, 'mukhil', 3.22, False, 90, 454)"
      ]
     },
     "execution_count": 3,
     "metadata": {},
     "output_type": "execute_result"
    }
   ],
   "source": [
    "t1+t2"
   ]
  },
  {
   "cell_type": "code",
   "execution_count": 7,
   "id": "7debb62f",
   "metadata": {},
   "outputs": [],
   "source": [
    " t=((3,4,3,4,1),(45,2,4,32,65),[53,3,32])"
   ]
  },
  {
   "cell_type": "code",
   "execution_count": 8,
   "id": "beba0fb2",
   "metadata": {},
   "outputs": [
    {
     "data": {
      "text/plain": [
       "((3, 4, 3, 4, 1), (45, 2, 4, 32, 65), [53, 3, 32])"
      ]
     },
     "execution_count": 8,
     "metadata": {},
     "output_type": "execute_result"
    }
   ],
   "source": [
    "t"
   ]
  },
  {
   "cell_type": "code",
   "execution_count": 13,
   "id": "9fa54252",
   "metadata": {},
   "outputs": [
    {
     "data": {
      "text/plain": [
       "[53, 3, 32]"
      ]
     },
     "execution_count": 13,
     "metadata": {},
     "output_type": "execute_result"
    }
   ],
   "source": [
    "t[2]"
   ]
  },
  {
   "cell_type": "code",
   "execution_count": 14,
   "id": "96697291",
   "metadata": {},
   "outputs": [
    {
     "data": {
      "text/plain": [
       "32"
      ]
     },
     "execution_count": 14,
     "metadata": {},
     "output_type": "execute_result"
    }
   ],
   "source": [
    "t[2][2]"
   ]
  },
  {
   "cell_type": "code",
   "execution_count": 15,
   "id": "a7e49e4a",
   "metadata": {},
   "outputs": [
    {
     "name": "stdout",
     "output_type": "stream",
     "text": [
      "(3, 4, 3, 4, 1)\n",
      "(45, 2, 4, 32, 65)\n",
      "[53, 3, 32]\n"
     ]
    }
   ],
   "source": [
    "for i in t:\n",
    "    print(i)"
   ]
  },
  {
   "cell_type": "code",
   "execution_count": 16,
   "id": "5d4e5ddf",
   "metadata": {},
   "outputs": [
    {
     "name": "stdout",
     "output_type": "stream",
     "text": [
      "3\n",
      "45\n"
     ]
    }
   ],
   "source": [
    "for i in t:\n",
    "    if type(i)==tuple:\n",
    "        print(i[0])"
   ]
  },
  {
   "cell_type": "markdown",
   "id": "a3abf7bd",
   "metadata": {},
   "source": [
    "# "
   ]
  },
  {
   "cell_type": "code",
   "execution_count": 19,
   "id": "bf9e7a27",
   "metadata": {},
   "outputs": [
    {
     "data": {
      "text/plain": [
       "(2323, 45, 'mukhil', 3.22, False)"
      ]
     },
     "execution_count": 19,
     "metadata": {},
     "output_type": "execute_result"
    }
   ],
   "source": [
    "t1"
   ]
  },
  {
   "cell_type": "code",
   "execution_count": 20,
   "id": "0bc3c1c3",
   "metadata": {},
   "outputs": [
    {
     "data": {
      "text/plain": [
       "(90, 454)"
      ]
     },
     "execution_count": 20,
     "metadata": {},
     "output_type": "execute_result"
    }
   ],
   "source": [
    "t2"
   ]
  },
  {
   "cell_type": "code",
   "execution_count": 21,
   "id": "9f43bdb8",
   "metadata": {},
   "outputs": [
    {
     "name": "stdout",
     "output_type": "stream",
     "text": [
      "not same\n"
     ]
    }
   ],
   "source": [
    "if len(t1)==len(t2):\n",
    "    print(\"same\")\n",
    "else :\n",
    "    print(\"not same\")"
   ]
  },
  {
   "cell_type": "code",
   "execution_count": 22,
   "id": "aaa9c083",
   "metadata": {},
   "outputs": [],
   "source": [
    "t=(34,4323,5454,'srs',\"rajendran\",4.232,546,234,24,2,\"kumar\")"
   ]
  },
  {
   "cell_type": "code",
   "execution_count": 24,
   "id": "bdb52791",
   "metadata": {},
   "outputs": [
    {
     "name": "stdout",
     "output_type": "stream",
     "text": [
      "take a user inputsrs\n",
      "yes your name is availbale\n"
     ]
    }
   ],
   "source": [
    "i=input(\"take a user input\")\n",
    "if i in t:\n",
    "    print(\"yes your name is availbale\")\n",
    "else:\n",
    "    print(\"not available\")"
   ]
  },
  {
   "cell_type": "code",
   "execution_count": 25,
   "id": "12d4d5e6",
   "metadata": {},
   "outputs": [
    {
     "data": {
      "text/plain": [
       "(34, 4323, 5454, 'srs', 'rajendran', 4.232, 546, 234, 24, 2, 'kumar')"
      ]
     },
     "execution_count": 25,
     "metadata": {},
     "output_type": "execute_result"
    }
   ],
   "source": [
    "t"
   ]
  },
  {
   "cell_type": "code",
   "execution_count": 26,
   "id": "faffe0cb",
   "metadata": {},
   "outputs": [
    {
     "ename": "SyntaxError",
     "evalue": "cannot delete literal (<ipython-input-26-4c8fcf86e47b>, line 1)",
     "output_type": "error",
     "traceback": [
      "\u001b[1;36m  File \u001b[1;32m\"<ipython-input-26-4c8fcf86e47b>\"\u001b[1;36m, line \u001b[1;32m1\u001b[0m\n\u001b[1;33m    del(3)\u001b[0m\n\u001b[1;37m       ^\u001b[0m\n\u001b[1;31mSyntaxError\u001b[0m\u001b[1;31m:\u001b[0m cannot delete literal\n"
     ]
    }
   ],
   "source": [
    "del(3)"
   ]
  },
  {
   "cell_type": "code",
   "execution_count": 27,
   "id": "9cb2ddac",
   "metadata": {},
   "outputs": [
    {
     "ename": "SyntaxError",
     "evalue": "cannot delete literal (<ipython-input-27-5193efdf4528>, line 1)",
     "output_type": "error",
     "traceback": [
      "\u001b[1;36m  File \u001b[1;32m\"<ipython-input-27-5193efdf4528>\"\u001b[1;36m, line \u001b[1;32m1\u001b[0m\n\u001b[1;33m    del(34)\u001b[0m\n\u001b[1;37m       ^\u001b[0m\n\u001b[1;31mSyntaxError\u001b[0m\u001b[1;31m:\u001b[0m cannot delete literal\n"
     ]
    }
   ],
   "source": [
    "del(34)"
   ]
  },
  {
   "cell_type": "code",
   "execution_count": 28,
   "id": "a78ead02",
   "metadata": {},
   "outputs": [],
   "source": [
    "##SET"
   ]
  },
  {
   "cell_type": "code",
   "execution_count": 2,
   "id": "8758487d",
   "metadata": {},
   "outputs": [],
   "source": [
    "x=set()"
   ]
  },
  {
   "cell_type": "code",
   "execution_count": 3,
   "id": "1dfec735",
   "metadata": {},
   "outputs": [
    {
     "data": {
      "text/plain": [
       "set"
      ]
     },
     "execution_count": 3,
     "metadata": {},
     "output_type": "execute_result"
    }
   ],
   "source": [
    "type(x)"
   ]
  },
  {
   "cell_type": "code",
   "execution_count": 4,
   "id": "91d915ef",
   "metadata": {},
   "outputs": [],
   "source": [
    "l=[34,45,34,34,45,4,54,45,45,454,\"kds\",'dsd','dsd']"
   ]
  },
  {
   "cell_type": "code",
   "execution_count": 5,
   "id": "db5eabde",
   "metadata": {},
   "outputs": [],
   "source": [
    "s=set(l)"
   ]
  },
  {
   "cell_type": "code",
   "execution_count": 6,
   "id": "22e1297d",
   "metadata": {},
   "outputs": [
    {
     "data": {
      "text/plain": [
       "{34, 4, 45, 454, 54, 'dsd', 'kds'}"
      ]
     },
     "execution_count": 6,
     "metadata": {},
     "output_type": "execute_result"
    }
   ],
   "source": [
    "s"
   ]
  },
  {
   "cell_type": "code",
   "execution_count": 7,
   "id": "ff36e0bb",
   "metadata": {},
   "outputs": [
    {
     "data": {
      "text/plain": [
       "True"
      ]
     },
     "execution_count": 7,
     "metadata": {},
     "output_type": "execute_result"
    }
   ],
   "source": [
    "34 in s"
   ]
  },
  {
   "cell_type": "code",
   "execution_count": 8,
   "id": "3dca398d",
   "metadata": {},
   "outputs": [
    {
     "name": "stdout",
     "output_type": "stream",
     "text": [
      "34\n",
      "4\n",
      "454\n",
      "45\n",
      "kds\n",
      "54\n",
      "dsd\n"
     ]
    }
   ],
   "source": [
    "for i in s:\n",
    "    print(i)"
   ]
  },
  {
   "cell_type": "code",
   "execution_count": 9,
   "id": "2fac6ec0",
   "metadata": {},
   "outputs": [],
   "source": [
    "s.add('kill')"
   ]
  },
  {
   "cell_type": "code",
   "execution_count": 10,
   "id": "b92a8148",
   "metadata": {},
   "outputs": [
    {
     "data": {
      "text/plain": [
       "{34, 4, 45, 454, 54, 'dsd', 'kds', 'kill'}"
      ]
     },
     "execution_count": 10,
     "metadata": {},
     "output_type": "execute_result"
    }
   ],
   "source": [
    "s"
   ]
  },
  {
   "cell_type": "code",
   "execution_count": 11,
   "id": "1037aec3",
   "metadata": {},
   "outputs": [],
   "source": [
    "s.add(45)"
   ]
  },
  {
   "cell_type": "code",
   "execution_count": 12,
   "id": "2c7ee7ef",
   "metadata": {},
   "outputs": [
    {
     "data": {
      "text/plain": [
       "{34, 4, 45, 454, 54, 'dsd', 'kds', 'kill'}"
      ]
     },
     "execution_count": 12,
     "metadata": {},
     "output_type": "execute_result"
    }
   ],
   "source": [
    "s"
   ]
  },
  {
   "cell_type": "code",
   "execution_count": 15,
   "id": "ce9294bf",
   "metadata": {},
   "outputs": [],
   "source": [
    "s.clear()"
   ]
  },
  {
   "cell_type": "code",
   "execution_count": 16,
   "id": "e8aa4460",
   "metadata": {},
   "outputs": [
    {
     "data": {
      "text/plain": [
       "set()"
      ]
     },
     "execution_count": 16,
     "metadata": {},
     "output_type": "execute_result"
    }
   ],
   "source": [
    "s"
   ]
  },
  {
   "cell_type": "code",
   "execution_count": 14,
   "id": "ae0f3c6c",
   "metadata": {},
   "outputs": [],
   "source": [
    "s1={34,3,4,2,432,23}"
   ]
  },
  {
   "cell_type": "code",
   "execution_count": 15,
   "id": "c979b955",
   "metadata": {},
   "outputs": [
    {
     "data": {
      "text/plain": [
       "set"
      ]
     },
     "execution_count": 15,
     "metadata": {},
     "output_type": "execute_result"
    }
   ],
   "source": [
    "type(s1)"
   ]
  },
  {
   "cell_type": "code",
   "execution_count": 16,
   "id": "52f5f843",
   "metadata": {},
   "outputs": [
    {
     "data": {
      "text/plain": [
       "{45, 454, 54, 'dsd', 'kds', 'kill'}"
      ]
     },
     "execution_count": 16,
     "metadata": {},
     "output_type": "execute_result"
    }
   ],
   "source": [
    "s.difference(s1)"
   ]
  },
  {
   "cell_type": "code",
   "execution_count": 17,
   "id": "6c135f72",
   "metadata": {},
   "outputs": [
    {
     "data": {
      "text/plain": [
       "{34, 4, 45, 454, 54, 'dsd', 'kds', 'kill'}"
      ]
     },
     "execution_count": 17,
     "metadata": {},
     "output_type": "execute_result"
    }
   ],
   "source": [
    "s"
   ]
  },
  {
   "cell_type": "code",
   "execution_count": 18,
   "id": "7f6bb786",
   "metadata": {},
   "outputs": [],
   "source": [
    "##Dictionary\n"
   ]
  },
  {
   "cell_type": "code",
   "execution_count": 19,
   "id": "32edab8b",
   "metadata": {},
   "outputs": [],
   "source": [
    "x={}"
   ]
  },
  {
   "cell_type": "code",
   "execution_count": 20,
   "id": "230e4971",
   "metadata": {},
   "outputs": [
    {
     "data": {
      "text/plain": [
       "dict"
      ]
     },
     "execution_count": 20,
     "metadata": {},
     "output_type": "execute_result"
    }
   ],
   "source": [
    "type(x)"
   ]
  },
  {
   "cell_type": "code",
   "execution_count": 1,
   "id": "27f1fb97",
   "metadata": {},
   "outputs": [],
   "source": [
    "x1={34,56}"
   ]
  },
  {
   "cell_type": "code",
   "execution_count": 2,
   "id": "e337fda7",
   "metadata": {},
   "outputs": [
    {
     "data": {
      "text/plain": [
       "set"
      ]
     },
     "execution_count": 2,
     "metadata": {},
     "output_type": "execute_result"
    }
   ],
   "source": [
    "type(x1)"
   ]
  },
  {
   "cell_type": "code",
   "execution_count": 3,
   "id": "15caa7ff",
   "metadata": {},
   "outputs": [],
   "source": [
    "x={\"name\":\"sudh\",\"age\":3455}"
   ]
  },
  {
   "cell_type": "code",
   "execution_count": 4,
   "id": "f1243c12",
   "metadata": {},
   "outputs": [
    {
     "data": {
      "text/plain": [
       "dict"
      ]
     },
     "execution_count": 4,
     "metadata": {},
     "output_type": "execute_result"
    }
   ],
   "source": [
    "type(x)"
   ]
  },
  {
   "cell_type": "code",
   "execution_count": 1,
   "id": "4dba34b6",
   "metadata": {},
   "outputs": [],
   "source": [
    "x1={\"name\": \"mukhil\",\"age\":34,True:\"dasd\",56:\"jilds\"}"
   ]
  },
  {
   "cell_type": "code",
   "execution_count": 6,
   "id": "92eea641",
   "metadata": {},
   "outputs": [
    {
     "data": {
      "text/plain": [
       "{'name': 'mukhil', 'age': 34, True: 'dasd', 56: 'jilds'}"
      ]
     },
     "execution_count": 6,
     "metadata": {},
     "output_type": "execute_result"
    }
   ],
   "source": [
    "x1"
   ]
  },
  {
   "cell_type": "code",
   "execution_count": 7,
   "id": "5ec2e2be",
   "metadata": {},
   "outputs": [
    {
     "data": {
      "text/plain": [
       "{'name': 'mukhil', 'age': 34, True: 'dasd', 56: 'jilds'}"
      ]
     },
     "execution_count": 7,
     "metadata": {},
     "output_type": "execute_result"
    }
   ],
   "source": [
    "x1"
   ]
  },
  {
   "cell_type": "code",
   "execution_count": 2,
   "id": "81bab908",
   "metadata": {},
   "outputs": [],
   "source": [
    "x2={\"liss\":\n",
    "    {\"name\": \"mukhil\",\"age\":34,True:\"dasd\",56:\"jilds\"}\n",
    "    ,\"name\": \"mukhil\",\"age\":34,True:\"dasd\",56:\"jilds\"}"
   ]
  },
  {
   "cell_type": "code",
   "execution_count": 3,
   "id": "7d077bd3",
   "metadata": {},
   "outputs": [
    {
     "data": {
      "text/plain": [
       "{'liss': {'name': 'mukhil', 'age': 34, True: 'dasd', 56: 'jilds'},\n",
       " 'name': 'mukhil',\n",
       " 'age': 34,\n",
       " True: 'dasd',\n",
       " 56: 'jilds'}"
      ]
     },
     "execution_count": 3,
     "metadata": {},
     "output_type": "execute_result"
    }
   ],
   "source": [
    "x2"
   ]
  },
  {
   "cell_type": "code",
   "execution_count": 4,
   "id": "395c43c6",
   "metadata": {},
   "outputs": [],
   "source": [
    "x3={(3,2,3,54,6):\"rum\",'illusion':[45,34,3,34,43]}"
   ]
  },
  {
   "cell_type": "code",
   "execution_count": 15,
   "id": "f316403e",
   "metadata": {},
   "outputs": [
    {
     "data": {
      "text/plain": [
       "{(3, 2, 3, 54, 6): 'rum', 'illusion': [45, 34, 3, 34, 43]}"
      ]
     },
     "execution_count": 15,
     "metadata": {},
     "output_type": "execute_result"
    }
   ],
   "source": [
    "x3"
   ]
  },
  {
   "cell_type": "code",
   "execution_count": 12,
   "id": "c11be91d",
   "metadata": {},
   "outputs": [
    {
     "data": {
      "text/plain": [
       "{'name': 'mukhil', 'age': 34, True: 'dasd', 56: 'jilds'}"
      ]
     },
     "execution_count": 12,
     "metadata": {},
     "output_type": "execute_result"
    }
   ],
   "source": [
    "x2['liss']"
   ]
  },
  {
   "cell_type": "code",
   "execution_count": 13,
   "id": "0611ed95",
   "metadata": {},
   "outputs": [
    {
     "data": {
      "text/plain": [
       "34"
      ]
     },
     "execution_count": 13,
     "metadata": {},
     "output_type": "execute_result"
    }
   ],
   "source": [
    "x3['illusion'][3]"
   ]
  },
  {
   "cell_type": "code",
   "execution_count": 16,
   "id": "fca355ef",
   "metadata": {},
   "outputs": [
    {
     "data": {
      "text/plain": [
       "{(3, 2, 3, 54, 6): 'rum', 'illusion': [45, 34, 3, 34, 43]}"
      ]
     },
     "execution_count": 16,
     "metadata": {},
     "output_type": "execute_result"
    }
   ],
   "source": [
    "x3"
   ]
  },
  {
   "cell_type": "code",
   "execution_count": 18,
   "id": "8df5d031",
   "metadata": {},
   "outputs": [],
   "source": [
    "x3['illusion'] =5"
   ]
  },
  {
   "cell_type": "code",
   "execution_count": 19,
   "id": "4b1c058c",
   "metadata": {},
   "outputs": [
    {
     "data": {
      "text/plain": [
       "{(3, 2, 3, 54, 6): 'rum', 'illusion': 5}"
      ]
     },
     "execution_count": 19,
     "metadata": {},
     "output_type": "execute_result"
    }
   ],
   "source": [
    "x3"
   ]
  },
  {
   "cell_type": "code",
   "execution_count": 20,
   "id": "14b246d7",
   "metadata": {},
   "outputs": [],
   "source": [
    "x3['illusion'] -=3"
   ]
  },
  {
   "cell_type": "code",
   "execution_count": 21,
   "id": "e2999876",
   "metadata": {},
   "outputs": [
    {
     "data": {
      "text/plain": [
       "{(3, 2, 3, 54, 6): 'rum', 'illusion': 2}"
      ]
     },
     "execution_count": 21,
     "metadata": {},
     "output_type": "execute_result"
    }
   ],
   "source": [
    "x3"
   ]
  },
  {
   "cell_type": "code",
   "execution_count": 5,
   "id": "30c1c268",
   "metadata": {},
   "outputs": [
    {
     "data": {
      "text/plain": [
       "dict_keys([(3, 2, 3, 54, 6), 'illusion'])"
      ]
     },
     "execution_count": 5,
     "metadata": {},
     "output_type": "execute_result"
    }
   ],
   "source": [
    "x3.keys()"
   ]
  },
  {
   "cell_type": "code",
   "execution_count": 15,
   "id": "e6ffdd9a",
   "metadata": {},
   "outputs": [
    {
     "name": "stdout",
     "output_type": "stream",
     "text": [
      "rum\n",
      "[45, 34, 3, 34, 43]\n"
     ]
    }
   ],
   "source": [
    "for i in x3.keys():\n",
    "    print(x3[i])"
   ]
  },
  {
   "cell_type": "code",
   "execution_count": 16,
   "id": "30cff52e",
   "metadata": {},
   "outputs": [
    {
     "data": {
      "text/plain": [
       "dict_items([((3, 2, 3, 54, 6), 'rum'), ('illusion', [45, 34, 3, 34, 43])])"
      ]
     },
     "execution_count": 16,
     "metadata": {},
     "output_type": "execute_result"
    }
   ],
   "source": [
    "x3.items()"
   ]
  },
  {
   "cell_type": "code",
   "execution_count": 18,
   "id": "6a3b5284",
   "metadata": {},
   "outputs": [
    {
     "name": "stdout",
     "output_type": "stream",
     "text": [
      "(3, 2, 3, 54, 6)\n",
      "illusion\n"
     ]
    }
   ],
   "source": [
    "for i in x3.items():\n",
    "    print(i[0])"
   ]
  },
  {
   "cell_type": "code",
   "execution_count": 19,
   "id": "2794057e",
   "metadata": {},
   "outputs": [],
   "source": [
    "#take a input as a paragraph\n",
    "#convert all the input into list\n",
    "#Remove all the duplicate in the list\n",
    "#use the above distict element as a key for dict \n",
    "# and assign you name as a value for the the key\n",
    "#try to pront tuple of all the values\n",
    "#try tos print all the list of all the key\n"
   ]
  },
  {
   "cell_type": "code",
   "execution_count": 24,
   "id": "80a43478",
   "metadata": {},
   "outputs": [
    {
     "name": "stdout",
     "output_type": "stream",
     "text": [
      "enter the paragraphCliff Thorburn (born 16 January 1948) is a Canadian retired professional snooker player. Nicknamed \"the Grinder\" because of his slow, determined style of play, he won the 1980 World Snooker Championship, becoming the first world champion in snooker's modern era from outside the United Kingdom. He remains the sport's only world champion from the Americas. Ranked world number one during the 1981–82 season, he was the first non-British player to top the world rankings. In 1983, Thorburn became the first player to make a maximum break in a World Championship. \n"
     ]
    }
   ],
   "source": [
    "a1=input(\"enter the paragraph\")"
   ]
  },
  {
   "cell_type": "code",
   "execution_count": 25,
   "id": "67a75c1c",
   "metadata": {},
   "outputs": [
    {
     "data": {
      "text/plain": [
       "str"
      ]
     },
     "execution_count": 25,
     "metadata": {},
     "output_type": "execute_result"
    }
   ],
   "source": [
    "type(a1)"
   ]
  },
  {
   "cell_type": "code",
   "execution_count": 26,
   "id": "575d07d1",
   "metadata": {},
   "outputs": [],
   "source": [
    "a1_list=a1.split(\" \")"
   ]
  },
  {
   "cell_type": "code",
   "execution_count": 27,
   "id": "6d2e27c7",
   "metadata": {},
   "outputs": [
    {
     "data": {
      "text/plain": [
       "['Cliff',\n",
       " 'Thorburn',\n",
       " '(born',\n",
       " '16',\n",
       " 'January',\n",
       " '1948)',\n",
       " 'is',\n",
       " 'a',\n",
       " 'Canadian',\n",
       " 'retired',\n",
       " 'professional',\n",
       " 'snooker',\n",
       " 'player.',\n",
       " 'Nicknamed',\n",
       " '\"the',\n",
       " 'Grinder\"',\n",
       " 'because',\n",
       " 'of',\n",
       " 'his',\n",
       " 'slow,',\n",
       " 'determined',\n",
       " 'style',\n",
       " 'of',\n",
       " 'play,',\n",
       " 'he',\n",
       " 'won',\n",
       " 'the',\n",
       " '1980',\n",
       " 'World',\n",
       " 'Snooker',\n",
       " 'Championship,',\n",
       " 'becoming',\n",
       " 'the',\n",
       " 'first',\n",
       " 'world',\n",
       " 'champion',\n",
       " 'in',\n",
       " \"snooker's\",\n",
       " 'modern',\n",
       " 'era',\n",
       " 'from',\n",
       " 'outside',\n",
       " 'the',\n",
       " 'United',\n",
       " 'Kingdom.',\n",
       " 'He',\n",
       " 'remains',\n",
       " 'the',\n",
       " \"sport's\",\n",
       " 'only',\n",
       " 'world',\n",
       " 'champion',\n",
       " 'from',\n",
       " 'the',\n",
       " 'Americas.',\n",
       " 'Ranked',\n",
       " 'world',\n",
       " 'number',\n",
       " 'one',\n",
       " 'during',\n",
       " 'the',\n",
       " '1981–82',\n",
       " 'season,',\n",
       " 'he',\n",
       " 'was',\n",
       " 'the',\n",
       " 'first',\n",
       " 'non-British',\n",
       " 'player',\n",
       " 'to',\n",
       " 'top',\n",
       " 'the',\n",
       " 'world',\n",
       " 'rankings.',\n",
       " 'In',\n",
       " '1983,',\n",
       " 'Thorburn',\n",
       " 'became',\n",
       " 'the',\n",
       " 'first',\n",
       " 'player',\n",
       " 'to',\n",
       " 'make',\n",
       " 'a',\n",
       " 'maximum',\n",
       " 'break',\n",
       " 'in',\n",
       " 'a',\n",
       " 'World',\n",
       " 'Championship.',\n",
       " '']"
      ]
     },
     "execution_count": 27,
     "metadata": {},
     "output_type": "execute_result"
    }
   ],
   "source": [
    "a1_list"
   ]
  },
  {
   "cell_type": "code",
   "execution_count": 28,
   "id": "8b9d42d4",
   "metadata": {},
   "outputs": [],
   "source": [
    "a1_duplicate=set(a1_list)"
   ]
  },
  {
   "cell_type": "code",
   "execution_count": 29,
   "id": "c8a400eb",
   "metadata": {
    "scrolled": true
   },
   "outputs": [
    {
     "data": {
      "text/plain": [
       "{'',\n",
       " '\"the',\n",
       " '(born',\n",
       " '16',\n",
       " '1948)',\n",
       " '1980',\n",
       " '1981–82',\n",
       " '1983,',\n",
       " 'Americas.',\n",
       " 'Canadian',\n",
       " 'Championship,',\n",
       " 'Championship.',\n",
       " 'Cliff',\n",
       " 'Grinder\"',\n",
       " 'He',\n",
       " 'In',\n",
       " 'January',\n",
       " 'Kingdom.',\n",
       " 'Nicknamed',\n",
       " 'Ranked',\n",
       " 'Snooker',\n",
       " 'Thorburn',\n",
       " 'United',\n",
       " 'World',\n",
       " 'a',\n",
       " 'became',\n",
       " 'because',\n",
       " 'becoming',\n",
       " 'break',\n",
       " 'champion',\n",
       " 'determined',\n",
       " 'during',\n",
       " 'era',\n",
       " 'first',\n",
       " 'from',\n",
       " 'he',\n",
       " 'his',\n",
       " 'in',\n",
       " 'is',\n",
       " 'make',\n",
       " 'maximum',\n",
       " 'modern',\n",
       " 'non-British',\n",
       " 'number',\n",
       " 'of',\n",
       " 'one',\n",
       " 'only',\n",
       " 'outside',\n",
       " 'play,',\n",
       " 'player',\n",
       " 'player.',\n",
       " 'professional',\n",
       " 'rankings.',\n",
       " 'remains',\n",
       " 'retired',\n",
       " 'season,',\n",
       " 'slow,',\n",
       " 'snooker',\n",
       " \"snooker's\",\n",
       " \"sport's\",\n",
       " 'style',\n",
       " 'the',\n",
       " 'to',\n",
       " 'top',\n",
       " 'was',\n",
       " 'won',\n",
       " 'world'}"
      ]
     },
     "execution_count": 29,
     "metadata": {},
     "output_type": "execute_result"
    }
   ],
   "source": [
    "a1_duplicate"
   ]
  },
  {
   "cell_type": "code",
   "execution_count": 30,
   "id": "181d5495",
   "metadata": {},
   "outputs": [],
   "source": [
    "a1_dict=dict.fromkeys(a1_duplicate,'mukhil')\n"
   ]
  },
  {
   "cell_type": "code",
   "execution_count": 31,
   "id": "1f727d75",
   "metadata": {},
   "outputs": [
    {
     "data": {
      "text/plain": [
       "{'determined': 'mukhil',\n",
       " 'during': 'mukhil',\n",
       " '': 'mukhil',\n",
       " 'Championship,': 'mukhil',\n",
       " 'from': 'mukhil',\n",
       " 'United': 'mukhil',\n",
       " 'Cliff': 'mukhil',\n",
       " 'a': 'mukhil',\n",
       " 'make': 'mukhil',\n",
       " '1948)': 'mukhil',\n",
       " 'because': 'mukhil',\n",
       " 'maximum': 'mukhil',\n",
       " 'player.': 'mukhil',\n",
       " 'He': 'mukhil',\n",
       " 'only': 'mukhil',\n",
       " 'professional': 'mukhil',\n",
       " 'Snooker': 'mukhil',\n",
       " 'Ranked': 'mukhil',\n",
       " 'became': 'mukhil',\n",
       " 'Americas.': 'mukhil',\n",
       " 'world': 'mukhil',\n",
       " 'non-British': 'mukhil',\n",
       " 'rankings.': 'mukhil',\n",
       " \"sport's\": 'mukhil',\n",
       " 'World': 'mukhil',\n",
       " 'first': 'mukhil',\n",
       " 'slow,': 'mukhil',\n",
       " 'was': 'mukhil',\n",
       " '1981–82': 'mukhil',\n",
       " 'number': 'mukhil',\n",
       " '1980': 'mukhil',\n",
       " 'Canadian': 'mukhil',\n",
       " 'Championship.': 'mukhil',\n",
       " 'champion': 'mukhil',\n",
       " 'modern': 'mukhil',\n",
       " 'becoming': 'mukhil',\n",
       " '1983,': 'mukhil',\n",
       " 'era': 'mukhil',\n",
       " 'won': 'mukhil',\n",
       " '\"the': 'mukhil',\n",
       " 'Kingdom.': 'mukhil',\n",
       " 'to': 'mukhil',\n",
       " 'one': 'mukhil',\n",
       " 'In': 'mukhil',\n",
       " 'remains': 'mukhil',\n",
       " 'retired': 'mukhil',\n",
       " '(born': 'mukhil',\n",
       " 'player': 'mukhil',\n",
       " 'in': 'mukhil',\n",
       " 'outside': 'mukhil',\n",
       " 'of': 'mukhil',\n",
       " 'the': 'mukhil',\n",
       " 'top': 'mukhil',\n",
       " 'break': 'mukhil',\n",
       " 'Nicknamed': 'mukhil',\n",
       " 'style': 'mukhil',\n",
       " \"snooker's\": 'mukhil',\n",
       " 'play,': 'mukhil',\n",
       " 'snooker': 'mukhil',\n",
       " 'Grinder\"': 'mukhil',\n",
       " 'January': 'mukhil',\n",
       " 'he': 'mukhil',\n",
       " 'Thorburn': 'mukhil',\n",
       " 'season,': 'mukhil',\n",
       " '16': 'mukhil',\n",
       " 'his': 'mukhil',\n",
       " 'is': 'mukhil'}"
      ]
     },
     "execution_count": 31,
     "metadata": {},
     "output_type": "execute_result"
    }
   ],
   "source": [
    "a1_dict"
   ]
  },
  {
   "cell_type": "code",
   "execution_count": 34,
   "id": "d9df3780",
   "metadata": {},
   "outputs": [],
   "source": [
    "a1_tuple=tuple(a1_dict.keys())\n",
    "a1_listval=list(a1_dict.values())"
   ]
  },
  {
   "cell_type": "code",
   "execution_count": 35,
   "id": "69e810af",
   "metadata": {},
   "outputs": [
    {
     "data": {
      "text/plain": [
       "['mukhil',\n",
       " 'mukhil',\n",
       " 'mukhil',\n",
       " 'mukhil',\n",
       " 'mukhil',\n",
       " 'mukhil',\n",
       " 'mukhil',\n",
       " 'mukhil',\n",
       " 'mukhil',\n",
       " 'mukhil',\n",
       " 'mukhil',\n",
       " 'mukhil',\n",
       " 'mukhil',\n",
       " 'mukhil',\n",
       " 'mukhil',\n",
       " 'mukhil',\n",
       " 'mukhil',\n",
       " 'mukhil',\n",
       " 'mukhil',\n",
       " 'mukhil',\n",
       " 'mukhil',\n",
       " 'mukhil',\n",
       " 'mukhil',\n",
       " 'mukhil',\n",
       " 'mukhil',\n",
       " 'mukhil',\n",
       " 'mukhil',\n",
       " 'mukhil',\n",
       " 'mukhil',\n",
       " 'mukhil',\n",
       " 'mukhil',\n",
       " 'mukhil',\n",
       " 'mukhil',\n",
       " 'mukhil',\n",
       " 'mukhil',\n",
       " 'mukhil',\n",
       " 'mukhil',\n",
       " 'mukhil',\n",
       " 'mukhil',\n",
       " 'mukhil',\n",
       " 'mukhil',\n",
       " 'mukhil',\n",
       " 'mukhil',\n",
       " 'mukhil',\n",
       " 'mukhil',\n",
       " 'mukhil',\n",
       " 'mukhil',\n",
       " 'mukhil',\n",
       " 'mukhil',\n",
       " 'mukhil',\n",
       " 'mukhil',\n",
       " 'mukhil',\n",
       " 'mukhil',\n",
       " 'mukhil',\n",
       " 'mukhil',\n",
       " 'mukhil',\n",
       " 'mukhil',\n",
       " 'mukhil',\n",
       " 'mukhil',\n",
       " 'mukhil',\n",
       " 'mukhil',\n",
       " 'mukhil',\n",
       " 'mukhil',\n",
       " 'mukhil',\n",
       " 'mukhil',\n",
       " 'mukhil',\n",
       " 'mukhil']"
      ]
     },
     "execution_count": 35,
     "metadata": {},
     "output_type": "execute_result"
    }
   ],
   "source": [
    "\n",
    "a1_listval"
   ]
  },
  {
   "cell_type": "code",
   "execution_count": 36,
   "id": "3a5be0a0",
   "metadata": {},
   "outputs": [],
   "source": [
    "d={\"company\":\"ineuron\",\"course\":\"full stack data science\", \"year\":2021}"
   ]
  },
  {
   "cell_type": "code",
   "execution_count": 37,
   "id": "bacc2e77",
   "metadata": {},
   "outputs": [
    {
     "name": "stdout",
     "output_type": "stream",
     "text": [
      "print a key company  value wise:  ineuron\n",
      "print a key course  value wise:  full stack data science\n",
      "print a key year  value wise:  2021\n"
     ]
    }
   ],
   "source": [
    "for i in d:\n",
    "    print(\"print a key\",i,\" value wise: \", d[i])"
   ]
  },
  {
   "cell_type": "code",
   "execution_count": 40,
   "id": "1495ce5c",
   "metadata": {},
   "outputs": [
    {
     "name": "stdout",
     "output_type": "stream",
     "text": [
      "year is fine\n"
     ]
    }
   ],
   "source": [
    "for i in d:\n",
    "    if i=='year':\n",
    "        if d[i]>2021:\n",
    "            print(\"year is fine\")\n",
    "        else:\n",
    "            d[i]=2022"
   ]
  },
  {
   "cell_type": "code",
   "execution_count": 41,
   "id": "ff5ce202",
   "metadata": {},
   "outputs": [
    {
     "data": {
      "text/plain": [
       "{'company': 'ineuron', 'course': 'full stack data science', 'year': 2022}"
      ]
     },
     "execution_count": 41,
     "metadata": {},
     "output_type": "execute_result"
    }
   ],
   "source": [
    "d"
   ]
  },
  {
   "cell_type": "code",
   "execution_count": 42,
   "id": "72a80b38",
   "metadata": {},
   "outputs": [],
   "source": [
    "my_dict={}\n",
    "for i in range(10):\n",
    "    my_dict[i]=i*i"
   ]
  },
  {
   "cell_type": "code",
   "execution_count": 43,
   "id": "6e381856",
   "metadata": {},
   "outputs": [
    {
     "data": {
      "text/plain": [
       "{0: 0, 1: 1, 2: 4, 3: 9, 4: 16, 5: 25, 6: 36, 7: 49, 8: 64, 9: 81}"
      ]
     },
     "execution_count": 43,
     "metadata": {},
     "output_type": "execute_result"
    }
   ],
   "source": [
    "my_dict"
   ]
  },
  {
   "cell_type": "code",
   "execution_count": null,
   "id": "8192521e",
   "metadata": {},
   "outputs": [],
   "source": []
  }
 ],
 "metadata": {
  "kernelspec": {
   "display_name": "Python 3",
   "language": "python",
   "name": "python3"
  },
  "language_info": {
   "codemirror_mode": {
    "name": "ipython",
    "version": 3
   },
   "file_extension": ".py",
   "mimetype": "text/x-python",
   "name": "python",
   "nbconvert_exporter": "python",
   "pygments_lexer": "ipython3",
   "version": "3.8.8"
  }
 },
 "nbformat": 4,
 "nbformat_minor": 5
}
